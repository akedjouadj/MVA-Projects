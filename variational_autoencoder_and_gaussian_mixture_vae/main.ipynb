{
  "nbformat": 4,
  "nbformat_minor": 0,
  "metadata": {
    "colab": {
      "provenance": [],
      "gpuType": "T4"
    },
    "kernelspec": {
      "name": "python3",
      "display_name": "Python 3"
    },
    "language_info": {
      "name": "python"
    },
    "accelerator": "GPU"
  },
  "cells": [
    {
      "cell_type": "markdown",
      "source": [
        "#Variational auto-encoders for single-cell gene expression data"
      ],
      "metadata": {
        "id": "ruZSy6NaPy9M"
      }
    },
    {
      "cell_type": "markdown",
      "source": [
        "## Introduction\n",
        "Single cell RNA sequencing is a method that allows the analyses of gene expssion at the individual cell level. In this scope, there is a pressing need for generative models that can capture complex patterns and varibility of gene expression data. To address this challenge the authors of [1] explored the efficiency of Variational Autoencoders (VAEs) which are probabilistic models evaluated by likelihood functions,  and Gaussian Mixture VAE (GMVAE) that incorporated clustering in the latent space.\n",
        "\n",
        "This notebook presents the implementation of a Variational Autoencoder (VAE) and a Gaussian Mixture VAE from scratch, inspired by artitechtures discussed in [1]. The aim being to understand these generative models and evaluate their performance on synthetic data and real single gene expression data (MBC-20k)"
      ],
      "metadata": {
        "id": "m83zWZRscd7l"
      }
    },
    {
      "cell_type": "markdown",
      "source": [
        "## Background\n",
        "### Variational Autoencoders (VAEs)\n",
        "A VAE is a class of generative  models, which consist  of an encoder and a decoder that are interelated and yet independently parametrized models. The encoder maps the input data (gene expression counts) to a probabilistic distribution in the latent space that we chose to be a gaussian characterized by a mean and variance. The decoder then samples from this distribution to reconstruct the input data.\n",
        "\n",
        "\n",
        "The objective of training is to maximize the Evidence Lower Bound, which involves minimizing the reconstruction error while regularizing the distribution in the latent space, the ELBO is expressed as follows:\n",
        "\n",
        "\\begin{equation}\n",
        "    \\mathcal{L} = \\mathbb{E}_{q_\\phi(\\mathbf{z|x})} \\left[ \\log p_\\theta(\\mathbf{x|z}) \\right] - KL \\left[ q_\\phi(\\mathbf{z|x}) || p_\\theta (\\mathbf{z})  \\right]\n",
        "\\end{equation}\n",
        "\n",
        "given that  $\\mathbf{x}= (x_1, x_2, ..., x_N) $  represents our data, a single cell with $N$ features, is drawn from a distribution $p_\\theta(\\mathbf{x})$ parameterised by $\\theta$, and $\\mathbf{z}$ is the latent variable wich we assume to be drawn from a gaussian distribution.\n",
        "\n",
        "### Gaussian Mixture VAEs (GMM-VAEs)\n",
        "GMM-VAEs extend the VAE framework by incorporating a Gaussian Mixture Model (GMM) in the latent space. In a GMVAE, the latent variable $\\mathbf{z}$ is modeled as a mixture of $K$ Gaussian components, each characterized by its mean and covariance matrix. This allows the model to capture intricate patterns and dependencies within the latent space.\n",
        "\n",
        "The training objective for GMVAEs extends the ELBO for VAEs to accommodate the mixture of Gaussian distributions. The ELBO for a GMVAE is expressed as:\n",
        "\n",
        "\\begin{equation}\n",
        "    \\mathcal{L} = \\mathbb{E}_{q_\\phi(\\mathbf{y|x})} \\left[ \\mathbb{E}_{q_\\phi(\\mathbf{z|x,y})} \\left[ \\log p_\\theta(\\mathbf{x|z}) \\right] - KL \\left[ q_\\phi(\\mathbf{z|y}) || p_\\theta (\\mathbf{z|y})  \\right] \\right] - KL \\left[ q_\\phi(\\mathbf{y|x}) || p_\\theta (\\mathbf{y})  \\right]\n",
        "\\end{equation}\n",
        "\n",
        "where: \\\\\n",
        "$p_\\theta(\\mathbf{x}| \\mathbf{z})$: is the the same Poisson distribution as for VAE\n",
        "\n",
        "$p_\\theta(\\mathbf{z}|\\mathbf{y}) = \\mathcal{N}(\\mathbf{z}; \\mu_\\theta(\\mathbf{y}), \\sigma_{\\theta}^2(\\mathbf{y})\\mathbf{I} )$ \\\\\n",
        "\n",
        "$p_\\theta(\\mathbf{y}) = \\mathcal{M}(\\mathbf{y}; 1, \\pi),$ a multinomial distribution with paramater $n = 1$ and $\\pi = (\\pi_1, ..., \\pi_K)$, the probability vector of size $K$, the number of components in the gaussian mixture. $\\pi$ is supposed to be uniform with no prior information one the data.\n",
        "..."
      ],
      "metadata": {
        "id": "5iMlDpqxcgBL"
      }
    },
    {
      "cell_type": "markdown",
      "source": [
        "## Architecture Overview:\n",
        "In this work we wererinspired from the model graphs presented in [1] for both the VAE and GMVAE:\n",
        "...\n"
      ],
      "metadata": {
        "id": "p_pq3eMPndUG"
      }
    },
    {
      "cell_type": "markdown",
      "source": [
        "## Implementation\n"
      ],
      "metadata": {
        "id": "otB45qAppK82"
      }
    },
    {
      "cell_type": "code",
      "source": [
        "#install packeges\n",
        "!pip install pyro-ppl\n",
        "!pip install --upgrade jax jaxlib"
      ],
      "metadata": {
        "id": "qdUmRQJmtRiW"
      },
      "execution_count": null,
      "outputs": []
    },
    {
      "cell_type": "code",
      "source": [
        "from google.colab import drive\n",
        "drive.mount('/content/drive')\n",
        "import os\n",
        "os.chdir('/content/drive/MyDrive/pgm_projet/new_scratch/models') #change path"
      ],
      "metadata": {
        "colab": {
          "base_uri": "https://localhost:8080/"
        },
        "id": "Go-2fUIitOp5",
        "outputId": "da262152-5c12-4e72-e27f-2aa26f0d3664"
      },
      "execution_count": 2,
      "outputs": [
        {
          "output_type": "stream",
          "name": "stdout",
          "text": [
            "Mounted at /content/drive\n"
          ]
        }
      ]
    },
    {
      "cell_type": "code",
      "source": [
        "# Imports\n",
        "import json\n",
        "import pickle\n",
        "import os\n",
        "import numpy as np\n",
        "\n",
        "import matplotlib.pyplot as plt\n",
        "import torch\n",
        "import torch.distributions as distri\n",
        "from torch.utils.data import DataLoader\n",
        "from sklearn.model_selection import train_test_split\n",
        "from sklearn.cluster import KMeans\n",
        "from tqdm import tqdm\n",
        "from collections import defaultdict\n",
        "\n",
        "from utils import train_synthetic, train, gm_train , test\n",
        "from models import VariationalAutoEncoder, GMVariationalAutoEncoder\n"
      ],
      "metadata": {
        "id": "NHjULkqlp0np"
      },
      "execution_count": 3,
      "outputs": []
    },
    {
      "cell_type": "code",
      "source": [
        "device= (\"cuda\" if torch.cuda.is_available() else 'cpu')\n",
        "print('Using', device)\n"
      ],
      "metadata": {
        "id": "noIg9jaitvps",
        "colab": {
          "base_uri": "https://localhost:8080/"
        },
        "outputId": "554c3d62-cf2a-46f4-d911-9c40be362bfa"
      },
      "execution_count": 4,
      "outputs": [
        {
          "output_type": "stream",
          "name": "stdout",
          "text": [
            "Using cuda\n"
          ]
        }
      ]
    },
    {
      "cell_type": "markdown",
      "source": [
        "#Experiments and results:"
      ],
      "metadata": {
        "id": "xOub-x0AqXKO"
      }
    },
    {
      "cell_type": "markdown",
      "source": [
        "## 1. Test the VAE on synthetic data:"
      ],
      "metadata": {
        "id": "uzNk6iFfqzfT"
      }
    },
    {
      "cell_type": "code",
      "source": [
        "dataset = distri.Poisson(torch.tensor([i for i in range(1, 11)], dtype=torch.float)).sample((2000,))\n",
        "my_vae = VariationalAutoEncoder(input_size=dataset.shape[1],\n",
        "                                latent_dim=3,\n",
        "                                encoder_hidden_sizes=[7],\n",
        "                                decoder_hidden_sizes=[7])\n",
        "\n",
        "my_vae = my_vae.to(device)\n",
        "\n",
        "elbo_values, log_likelihoods, kl_div, output = train_synthetic(my_vae, dataset, lr=0.1, weight_decay=5e-2, nb_epochs=150, device= device )"
      ],
      "metadata": {
        "id": "3Piz5xgVqw3U"
      },
      "execution_count": null,
      "outputs": []
    },
    {
      "cell_type": "code",
      "source": [
        "fig, axs = plt.subplots(4, 1, figsize=(8, 12))\n",
        "\n",
        "axs[0].plot(elbo_values)\n",
        "axs[0].set_title('ELBO')\n",
        "\n",
        "axs[1].plot(log_likelihoods)\n",
        "axs[1].set_title('Log Likelihood')\n",
        "\n",
        "axs[2].plot(kl_div)\n",
        "axs[2].set_title('KL DIV')\n",
        "\n",
        "axs[3].bar(range(10), output.detach().cpu().numpy())\n",
        "axs[3].set_title('Reconstructed parameter lambda')\n",
        "\n",
        "plt.tight_layout()\n",
        "\n",
        "#plt.savefig('../out/vae_on_synthetic.png')\n",
        "\n",
        "plt.show()"
      ],
      "metadata": {
        "colab": {
          "base_uri": "https://localhost:8080/",
          "height": 1000
        },
        "id": "dhCyDpir9h3V",
        "outputId": "52eb468d-df64-492a-c6e6-360e3b883e71"
      },
      "execution_count": 6,
      "outputs": [
        {
          "output_type": "display_data",
          "data": {
            "text/plain": [
              "<Figure size 800x1200 with 4 Axes>"
            ],
            "image/png": "[encoded data removed]"
          },
          "metadata": {}
        }
      ]
    },
    {
      "cell_type": "markdown",
      "source": [
        "## 2. Test the VAE on real gene expression dataset:\n",
        "In this part we test our model on the MBC-20k dataset which contains 20 000 cells and 27 998 features each, and split it into train and\n",
        "test sets with proportion 81% train and 19% test"
      ],
      "metadata": {
        "id": "P_6DNewzq5WO"
      }
    },
    {
      "cell_type": "code",
      "source": [
        "#load the  MBC-20k dataset:\n",
        "data= torch.load( '/content/drive/MyDrive/pgm_projet/new_scratch/models/big_datasets/MBC_20k.pt') # put your correct path\n",
        "train_data, test_data = train_test_split(data, test_size = 0.19, random_state=0)\n",
        "print('Size of the train set: {} \\n Size of the test set: {}'.format(train_data.shape, test_data.shape))\n",
        "\n",
        "train_dataloader = DataLoader(train_data, batch_size=100, shuffle=True)\n",
        "test_dataloader = DataLoader(test_data, batch_size=100, shuffle=False)"
      ],
      "metadata": {
        "id": "KhJ0v5TdtTLD",
        "colab": {
          "base_uri": "https://localhost:8080/"
        },
        "outputId": "0daa1741-be7e-41b8-d0a5-161c453924ab"
      },
      "execution_count": 4,
      "outputs": [
        {
          "output_type": "stream",
          "name": "stdout",
          "text": [
            "Size of the train set: torch.Size([16200, 27998]) \n",
            " Size of the test set: torch.Size([3800, 27998])\n"
          ]
        }
      ]
    },
    {
      "cell_type": "code",
      "source": [
        "save_path='/content/drive/MyDrive/pgm_projet/new_scratch/checkpoints'\n",
        "log_path = '/content/drive/MyDrive/pgm_projet/new_scratch/runs'\n",
        "path='/content/drive/MyDrive/pgm_projet/new_scratch/grid_search'\n",
        "result_path='/content/drive/MyDrive/pgm_projet/new_scratch/results'\n",
        "grid_path='/content/drive/MyDrive/pgm_projet/new_scratch/grid_search'"
      ],
      "metadata": {
        "id": "XIhgDFfGvCke"
      },
      "execution_count": 5,
      "outputs": []
    },
    {
      "cell_type": "markdown",
      "source": [
        "###2.1 Grid search:\n",
        "We train the network on one epoch for multiple hidden layers with number of units varrying in 100, 250, 500 and 1000, in adtition to changing the latent dimension of z from 0, 25, 50, to 100 as reported in the article"
      ],
      "metadata": {
        "id": "0klJO506s_Lk"
      }
    },
    {
      "cell_type": "code",
      "source": [
        "#define function for grid search\n",
        "def grid_search_vae(par_dict, dist_name, n_features, path, log_path, ):\n",
        "    \"\"\"\n",
        "    Perform a grid search for hyperparameters of a Variational AutoEncoder (VAE).\n",
        "\n",
        "    Parameters:\n",
        "    - par_dict (dict): Dictionary containing hyperparameter values to search.\n",
        "    - dist_name (str): Name of the distribution used in the VAE.\n",
        "    - n_features (int): Number of input features.\n",
        "    - path (str): Path for saving grid search results.\n",
        "\n",
        "    Returns:\n",
        "    - dict: Dictionary containing grid search results, including hyperparameter values and corresponding metrics.\n",
        "    \"\"\"\n",
        "    # Initialize a dictionary with default values as lists\n",
        "    grid_result = defaultdict(list)\n",
        "\n",
        "    # Initialize variables for best elbo, log likelihood, and kl divergence\n",
        "    best_elbo, best_log_likeli, best_kl_div = 0, 1e8, 1e8\n",
        "\n",
        "    # Iterate over hyperparameter combinations\n",
        "    for lr in par_dict['lr']:\n",
        "        for encoder_hidden_sizes in par_dict['encoder_hidden']:\n",
        "            for decoder_hidden_sizes in par_dict['decoder_hidden']:\n",
        "                for latent_dim in par_dict['latent_dim']:\n",
        "                    # Create a Variational AutoEncoder with the current hyperparameters\n",
        "                    my_vae = VariationalAutoEncoder(\n",
        "                        input_size=n_features,\n",
        "                        latent_dim=latent_dim,\n",
        "                        encoder_hidden_sizes=encoder_hidden_sizes,\n",
        "                        decoder_hidden_sizes=decoder_hidden_sizes,\n",
        "                        dist_name=dist_name,\n",
        "                        return_latent=True\n",
        "                    )\n",
        "                    my_vae.to(device)\n",
        "\n",
        "                    # Train the model for one epoch\n",
        "                    elbo_values, log_likelihoods, kl_div, z_values = train(\n",
        "                        my_vae,\n",
        "                        train_dataloader,\n",
        "                        lr=lr, weight_decay=5e-2,\n",
        "                        nb_epochs=1,\n",
        "                        log_path= log_path,\n",
        "                        save_path= grid_path\n",
        "                        device=device\n",
        "                    )\n",
        "\n",
        "                    # Append results to the grid_result dictionary\n",
        "                    grid_result['encoder_hidden_sizes'].append(encoder_hidden_sizes)\n",
        "                    grid_result['decoder_hidden_sizes'].append(decoder_hidden_sizes)\n",
        "                    grid_result['latent_dim'].append(latent_dim)\n",
        "                    grid_result['elbo'].append(elbo_values)\n",
        "                    grid_result['log_likeli'].append(log_likelihoods)\n",
        "                    grid_result['kl_div'].append(kl_div)\n",
        "\n",
        "                    # Save the grid result (uncomment if needed)\n",
        "                    # with open(os.path.join(path, f'grid_{dist}.json'), 'w') as f:\n",
        "                    #     json.dump(grid_result, f)\n",
        "\n",
        "    return grid_result"
      ],
      "metadata": {
        "id": "9eKvVAljqV-W"
      },
      "execution_count": 6,
      "outputs": []
    },
    {
      "cell_type": "markdown",
      "source": [
        "Perform the grid search:"
      ],
      "metadata": {
        "id": "s3hh7x_Duv88"
      }
    },
    {
      "cell_type": "code",
      "source": [
        "# Path to store grid search results\n",
        "\n",
        "# Number of input features\n",
        "n_features = 27998\n",
        "\n",
        "# Hyperparameter dictionary\n",
        "parameters_dict = {\n",
        "    'lr': [0.0001],\n",
        "    'encoder_hidden': [[100], [100, 250], [100, 250, 500], [100, 250, 500, 1000]],\n",
        "    'decoder_hidden':  [[100], [100, 250], [100, 250, 500], [100, 250, 500, 1000]],\n",
        "    'latent_dim': [10, 25, 50, 100]\n",
        "}\n",
        "\n",
        "# Iterate over different distributions\n",
        "for dist in ['Poisson', 'NB', 'ZIP', 'ZINB']:\n",
        "    print(f\"\\ndist: {dist}\")\n",
        "    result = grid_search_vae(parameters_dict, dist, n_features, grid_path, log_path)\n",
        "\n",
        "    # Save the grid search result to a JSON file\n",
        "    with open(os.path.join(path, f'grid_{dist}.json'), 'w') as f:\n",
        "        json.dump(result, f)\n"
      ],
      "metadata": {
        "id": "BxKYZC2du0K6"
      },
      "execution_count": null,
      "outputs": []
    },
    {
      "cell_type": "markdown",
      "source": [
        "###2.2 Training the VAE"
      ],
      "metadata": {
        "id": "L6pw45ozYR3C"
      }
    },
    {
      "cell_type": "markdown",
      "source": [
        "Import the grids and analyse the best combinations"
      ],
      "metadata": {
        "id": "1m4yw0BPvgxk"
      }
    },
    {
      "cell_type": "code",
      "source": [
        "# Train the model on these configurations:\n",
        "lr = 1e-4\n",
        "n_features= 27998\n",
        "for dist in ['NB', 'ZIP', 'ZINB','Poisson']:\n",
        "    #load grid search results\n",
        "    with open(os.path.join(grid_path, f'grid_{dist}.json'), 'r') as f:\n",
        "        result_dist = json.load(f)\n",
        "\n",
        "    # Display best parameters\n",
        "    print('\\n The best parameters for {} are:'.format(dist))\n",
        "    for key in result_dist.keys():\n",
        "        print(key, result_dist[key][result_dist['elbo'].index(max(result_dist['elbo']))])\n",
        "\n",
        "    # Get parameters for the best ELBO\n",
        "    best_combi_index = result_dist['elbo'].index(max(result_dist['elbo']))\n",
        "\n",
        "    # Create a Variational AutoEncoder with the best hyperparameters\n",
        "    my_vae = VariationalAutoEncoder(\n",
        "        input_size=n_features,\n",
        "        latent_dim=result_dist['latent_dim'][best_combi_index],\n",
        "        encoder_hidden_sizes=result_dist['decoder_hidden_sizes'][best_combi_index],\n",
        "        decoder_hidden_sizes=result_dist['decoder_hidden_sizes'][best_combi_index],\n",
        "        dist_name=dist,\n",
        "        return_latent='True'\n",
        "    )\n",
        "    my_vae.to(device)\n",
        "\n",
        "    # Train the model\n",
        "    elbo_values, log_likelihoods, kl_div, z_values, descs = train(\n",
        "        my_vae,\n",
        "        train_dataloader,\n",
        "        lr=lr,\n",
        "        weight_decay=5e-2,\n",
        "        nb_epochs=200,\n",
        "        log_path=log_path,\n",
        "        save_path=save_path,\n",
        "        dist=dist,\n",
        "        device=device\n",
        "    )\n",
        "\n",
        "    # Results for training\n",
        "    results_dist_train = {\n",
        "        'elbo_values': elbo_values,\n",
        "        'log_likelihoods': log_likelihoods,\n",
        "        'kl_div': kl_div,\n",
        "        'z_values': z_values\n",
        "    }\n",
        "\n",
        "    # Save results (uncomment if needed)\n",
        "    # with open(os.path.join(result_path, f'train_result_{dist}.pickle'), 'wb') as f:\n",
        "    #     pickle.dump(results_dist_train, f)\n",
        "\n",
        "    # Plotting\n",
        "    fig, axs = plt.subplots(3, 1, figsize=(8, 12))\n",
        "\n",
        "    axs[0].plot(elbo_values)\n",
        "    axs[0].set_title('ELBO')\n",
        "\n",
        "    axs[1].plot(log_likelihoods)\n",
        "    axs[1].set_title('Log Likelihood')\n",
        "\n",
        "    axs[2].plot(kl_div)\n",
        "    axs[2].set_title('KL DIV')\n",
        "\n",
        "    plt.tight_layout()\n",
        "\n",
        "    # Save or display the plot\n",
        "    plt.savefig(os.path.join(result_path, 'vae_{}_train_results.png'.format(dist)))\n",
        "    plt.show()\n"
      ],
      "metadata": {
        "id": "HbGsKTnywWhr"
      },
      "execution_count": null,
      "outputs": []
    },
    {
      "cell_type": "markdown",
      "source": [
        "Tackle the non convergence of the model on the Poisson distribution by visualizing the sum of lambdas over epochs"
      ],
      "metadata": {
        "id": "AihRROeh0Avc"
      }
    },
    {
      "cell_type": "code",
      "source": [
        "# Load lambda descriptors from a pickle file\n",
        "dsit= 'Poisson'\n",
        "with open(os.path.join(result_path, f'lambda_decriptors_sum_{dist}.pickle'), 'rb') as f:\n",
        "    descs = pickle.load(f)\n",
        "\n",
        "# Get the sum of lambdas at each epoch\n",
        "n_batch = 162\n",
        "descs_ep = [descs[i: i + n_batch] for i in range(0, len(descs), n_batch)]\n",
        "sum_lambda_epoch = []\n",
        "\n",
        "# Iterate through epochs and batches to calculate the sum of lambdas\n",
        "for ep_desc in descs_ep:\n",
        "    sum_lambda_epoch.append(sum([b_desc[0]['sum'] for b_desc in ep_desc]))\n",
        "\n",
        "# Plot the results\n",
        "plt.figure()\n",
        "plt.plot(sum_lambda_epoch)\n",
        "plt.xlabel('Epochs')\n",
        "plt.ylabel('Sum of Lambdas')\n",
        "plt.savefig(os.path.join(result_path, 'sum_lambda_epoch.png'))\n",
        "plt.show()"
      ],
      "metadata": {
        "id": "ZYRB98YK0pUt"
      },
      "execution_count": null,
      "outputs": []
    },
    {
      "cell_type": "markdown",
      "source": [
        "Display elbo values for all the distributions:"
      ],
      "metadata": {
        "id": "kobaZ0DQ2DVo"
      }
    },
    {
      "cell_type": "code",
      "source": [
        "plt.figure()\n",
        "\n",
        "# Iterate through different distributions\n",
        "for dist in ['NB', 'ZIP', 'ZINB']:\n",
        "    # Load training results for the current distribution\n",
        "    with open(os.path.join(result_path, f'train_result_{dist}.pickle'), 'rb') as f:\n",
        "        results_dist_train = pickle.load(f)\n",
        "\n",
        "    # Extract ELBO values from the results\n",
        "    elbo = results_dist_train['elbo_values']\n",
        "\n",
        "    # Plot ELBO values for the current distribution\n",
        "    plt.plot(elbo, label=dist)\n",
        "\n",
        "# Set x and y labels\n",
        "plt.xlabel('Epochs')\n",
        "plt.ylabel('ELBO')\n",
        "\n",
        "# Set y-axis limits\n",
        "plt.ylim(-16000, -5000)\n",
        "\n",
        "# Add legend to the plot\n",
        "plt.legend()\n",
        "\n",
        "# Save the plot to a file\n",
        "plt.savefig(os.path.join(save_path, 'all_elbos.png'))"
      ],
      "metadata": {
        "id": "KSxdVcA72Hv0"
      },
      "execution_count": null,
      "outputs": []
    },
    {
      "cell_type": "markdown",
      "source": [
        "### 2.3 Test\n",
        "We run the VAE on the test set created earlier and record the results for all distributions:"
      ],
      "metadata": {
        "id": "0hHjfFAIcMG4"
      }
    },
    {
      "cell_type": "code",
      "source": [
        "\n",
        "for dist in ['NB', 'ZIP', 'ZINB','Poisson']:\n",
        "  with open(os.path.join(path, f'grid_{dist}.json'), 'r') as f:\n",
        "    result_dist= json.load(f)\n",
        "\n",
        "  # display parameters:\n",
        "  print('\\n The best parameters are:')\n",
        "  for key in result_dist.keys():\n",
        "    print(key, result_dist[key][result_dist['elbo'].index(max(result_dist['elbo']))])\n",
        "\n",
        "  #get parameters for best elbo\n",
        "  best_combi_index= result_dist['elbo'].index(max(result_dist['elbo']))\n",
        "\n",
        "  my_vae = VariationalAutoEncoder(input_size=n_features,\n",
        "                                  latent_dim=result_dist['latent_dim'][best_combi_index], # last inf hidden dim\n",
        "                                  encoder_hidden_sizes=result_dist['encoder_hidden_sizes'][best_combi_index],\n",
        "                                  decoder_hidden_sizes=result_dist['decoder_hidden_sizes'][best_combi_index],\n",
        "                                  dist_name=dist,\n",
        "                                  return_latent= 'True')\n",
        "  my_vae.to(device)\n",
        "  elbo_value, z_values = test(my_vae,\n",
        "                              test_dataloader,\n",
        "                              log_path= log_path,\n",
        "                              save_path = save_path,\n",
        "                              dist = dist,\n",
        "                              device=device)\n",
        "  #store test elbo and latent variables\n",
        "\n",
        "  results_dist_test= {\n",
        "      'elbo_value': elbo_value,\n",
        "      'z_values': z_values\n",
        "  }\n",
        "\n",
        "  with open(os.path.join(result_path, f'test_result_{dist}.pickle'), 'wb') as f:\n",
        "      pickle.dump(results_dist_test, f)\n",
        "\n",
        "  print('test elbo for {} distribution: {}'.format(dist, elbo_value))"
      ],
      "metadata": {
        "id": "68dIswTrcR7Q"
      },
      "execution_count": null,
      "outputs": []
    },
    {
      "cell_type": "markdown",
      "source": [
        "### 2.3 GMVAE"
      ],
      "metadata": {
        "id": "bM4Uy9exnJDy"
      }
    },
    {
      "cell_type": "code",
      "source": [
        "# synthetic dataset creation\n",
        "nb_cat = 5\n",
        "N_samples = 10000\n",
        "dataset = distri.Poisson(torch.tensor([i for i in range(1, 11)], dtype=torch.float)).sample((N_samples,))\n",
        "model = KMeans(n_clusters=nb_cat, random_state=0)\n",
        "model.fit(dataset)\n",
        "print(\"\\nClustering done !\")\n",
        "categories = torch.tensor(model.predict(dataset))\n",
        "prop = torch.unique(categories, return_counts=True)[1]/N_samples\n",
        "\n",
        "# model instanciation\n",
        "my_gmvae = GMVariationalAutoEncoder(input_size=dataset.shape[1],\n",
        "                                latent_dim=3,\n",
        "                                nb_cat=nb_cat,\n",
        "                                encoder_hidden_sizes=[7],\n",
        "                                pi_hidden_sizes=[10],\n",
        "                                decoder_hidden_sizes=[7]\n",
        "                                )\n",
        "\n",
        "# code for ablation study\n",
        "elbo_values, good_prediction_terms, regularization_terms, crossentropy_losses, output, pi = gm_train(my_gmvae,\n",
        "                                                                                                     dataset,\n",
        "                                                                                                     categories,\n",
        "                                                                                                     lr=0.08,\n",
        "                                                                                                     weight_decay=5e-2,\n",
        "                                                                                                     nb_epochs=200,\n",
        "                                                                                                     regularization_method = \"kl\")\n",
        "\n",
        "print(f\"\\nclusters prop: {prop}\")"
      ],
      "metadata": {
        "id": "2qbrIfsPnHdb"
      },
      "execution_count": null,
      "outputs": []
    },
    {
      "cell_type": "code",
      "source": [
        "# to visualize the results\n",
        "save_path = \"\" # put the path for saving results\n",
        "fig, axs = plt.subplots(3, 2, figsize=(8, 12))\n",
        "\n",
        "axs[0,0].plot(elbo_values)\n",
        "axs[0,0].set_title('ELBO')\n",
        "\n",
        "axs[0,1].plot(good_prediction_terms)\n",
        "axs[0,1].set_title('Good prediction term')\n",
        "\n",
        "axs[1,0].plot(regularization_terms)\n",
        "axs[1,0].set_title('Regularization term')\n",
        "\n",
        "axs[1,1].plot(crossentropy_losses)\n",
        "axs[1,1].set_title('Cross entropy of y')\n",
        "\n",
        "axs[2,0].bar(range(10), output.detach().numpy())\n",
        "axs[2,0].set_title('Reconstructed parameter lambda')\n",
        "\n",
        "bar_width = 0.35\n",
        "axs[2,1].bar(np.array([i for i in range(nb_cat)])- bar_width/2, pi.detach().cpu().numpy(), width=bar_width, label = \"Predicted\")\n",
        "axs[2,1].bar(np.array([i for i in range(nb_cat)])+ bar_width/2, prop.detach().cpu().numpy(), width=bar_width, label = \"Real\")\n",
        "axs[2,1].set_title('Classes probability vector')\n",
        "axs[2,1].legend()\n",
        "\n",
        "plt.tight_layout()\n",
        "\n",
        "plt.savefig(save_path)\n",
        "\n",
        "plt.show()"
      ],
      "metadata": {
        "id": "yfqtRLMF-OfC"
      },
      "execution_count": null,
      "outputs": []
    },
    {
      "cell_type": "code",
      "source": [],
      "metadata": {
        "id": "d0RbTvkY-UUx"
      },
      "execution_count": null,
      "outputs": []
    }
  ]
}