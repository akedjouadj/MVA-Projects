{
  "cells": [
    {
      "cell_type": "markdown",
      "metadata": {},
      "source": [
        "### First install the required librairies\n",
        "- Note that this code runs well on colab (need for a T4 GPU) without any additional required library to install. If you run it on another device, maybe you'll need to install another libraries"
      ]
    },
    {
      "cell_type": "code",
      "execution_count": null,
      "metadata": {
        "id": "4gkewXFI7haG"
      },
      "outputs": [],
      "source": [
        "! pip install accelerate==0.21.0\n",
        "! pip install transformers==4.30.1\n",
        "! pip install datasets"
      ]
    },
    {
      "cell_type": "markdown",
      "metadata": {},
      "source": [
        "Import the packages"
      ]
    },
    {
      "cell_type": "code",
      "execution_count": 2,
      "metadata": {
        "id": "YseMWnUk7jnK"
      },
      "outputs": [],
      "source": [
        "import os\n",
        "import accelerate\n",
        "import matplotlib.pyplot as plt\n",
        "import numpy as np\n",
        "import pandas as pd\n",
        "\n",
        "from sklearn.utils import shuffle\n",
        "from tqdm import tqdm\n",
        "from PIL import Image\n",
        "\n",
        "import torch\n",
        "import torch.optim as optim\n",
        "import torch.nn as nn\n",
        "import torchvision.transforms as transforms\n",
        "import torch.nn.functional as F\n",
        "\n",
        "from torch.utils.data import Dataset, DataLoader\n",
        "from torchvision import datasets\n",
        "\n",
        "from transformers import AutoImageProcessor, ViTModel, ViTForImageClassification, TrainingArguments, Trainer\n",
        "from datasets import load_metric"
      ]
    },
    {
      "cell_type": "markdown",
      "metadata": {},
      "source": [
        "A function to count transformers model parameters"
      ]
    },
    {
      "cell_type": "code",
      "execution_count": 3,
      "metadata": {
        "id": "Hh_eMhxTjMTt"
      },
      "outputs": [],
      "source": [
        "from prettytable import PrettyTable\n",
        "\n",
        "def count_parameters(model, plot_table=False):\n",
        "    table = PrettyTable([\"Modules\", \"Parameters\"])\n",
        "    total_params = 0\n",
        "    for name, parameter in model.named_parameters():\n",
        "        if not parameter.requires_grad:\n",
        "            continue\n",
        "        params = parameter.numel()\n",
        "        table.add_row([name, params])\n",
        "        total_params += params\n",
        "    if plot_table:\n",
        "      print(table)\n",
        "    print(f\"Total Trainable Params: {total_params}\")\n",
        "    return total_params"
      ]
    },
    {
      "cell_type": "markdown",
      "metadata": {
        "id": "cgFHUnwg2ZLo"
      },
      "source": [
        "I zip the given dataset folder and uploade it to my drive to run the training on colab"
      ]
    },
    {
      "cell_type": "code",
      "execution_count": 4,
      "metadata": {
        "colab": {
          "base_uri": "https://localhost:8080/"
        },
        "id": "oP6-GVQOftMA",
        "outputId": "4fe89332-6975-44b7-b526-4802f412a718"
      },
      "outputs": [
        {
          "name": "stdout",
          "output_type": "stream",
          "text": [
            "Mounted at /content/drive\n"
          ]
        }
      ],
      "source": [
        "# connect to google drive\n",
        "\n",
        "from google.colab import drive\n",
        "drive.mount('/content/drive')"
      ]
    },
    {
      "cell_type": "code",
      "execution_count": null,
      "metadata": {
        "id": "cPeBjV_uVdI7"
      },
      "outputs": [],
      "source": [
        "# unzip the data folder\n",
        "\n",
        "!unzip /content/drive/MyDrive/MVA-projects/assignment-RecVis/data_sketches.zip -d data_sketches"
      ]
    },
    {
      "cell_type": "code",
      "execution_count": 7,
      "metadata": {
        "id": "7ngZaS1XWxp5"
      },
      "outputs": [],
      "source": [
        "# some global variables \n",
        "\n",
        "device = torch.device(\"cuda\" if torch.cuda.is_available() else \"cpu\")\n",
        "size = 224\n",
        "default_inputsize = (size, size)\n",
        "nclasses = 250"
      ]
    },
    {
      "cell_type": "code",
      "execution_count": 8,
      "metadata": {
        "id": "U2sRVL0B8AVu"
      },
      "outputs": [],
      "source": [
        "# the data_transforms that will be applied each image data\n",
        "\n",
        "data_transforms = transforms.Compose([\n",
        "    transforms.Resize(default_inputsize),\n",
        "    transforms.ToTensor(),\n",
        "    transforms.Normalize(\n",
        "        mean=[0.485, 0.456, 0.406],\n",
        "        std=[0.229, 0.224, 0.225]\n",
        "    ),\n",
        "    transforms.Lambda(lambda x: torch.clamp(x, min=0, max=1))\n",
        "])"
      ]
    },
    {
      "cell_type": "markdown",
      "metadata": {
        "id": "HmvXCSkOZ5lq"
      },
      "source": [
        "### Finetune vision transformers"
      ]
    },
    {
      "cell_type": "markdown",
      "metadata": {},
      "source": [
        "Load the model and his image processor"
      ]
    },
    {
      "cell_type": "code",
      "execution_count": 23,
      "metadata": {
        "id": "IC-N_Y92Z5AX"
      },
      "outputs": [],
      "source": [
        "image_processor = AutoImageProcessor.from_pretrained(\"google/vit-base-patch16-224-in21k\")\n",
        "model = ViTForImageClassification.from_pretrained(\"google/vit-base-patch16-224-in21k\")\n",
        "model = model.to(device)"
      ]
    },
    {
      "cell_type": "code",
      "execution_count": 10,
      "metadata": {
        "colab": {
          "base_uri": "https://localhost:8080/"
        },
        "id": "u3NS82NhjXL0",
        "outputId": "e6efcff7-3aed-4601-9eae-6b8bfaeb4742"
      },
      "outputs": [
        {
          "name": "stdout",
          "output_type": "stream",
          "text": [
            "Total Trainable Params: 85990906\n"
          ]
        },
        {
          "data": {
            "text/plain": [
              "85990906"
            ]
          },
          "execution_count": 10,
          "metadata": {},
          "output_type": "execute_result"
        }
      ],
      "source": [
        "count_parameters(model)"
      ]
    },
    {
      "cell_type": "code",
      "execution_count": 25,
      "metadata": {
        "id": "sEF8L0tgFkz5"
      },
      "outputs": [],
      "source": [
        "class CustomImageDataset(Dataset):\n",
        "    \"\"\"\n",
        "    A customized image dataset object that will be used to prepare model's inputs\n",
        "\n",
        "    Args:\n",
        "        data_path (list): Liste des chemins vers les images.\n",
        "        labels (list): Liste des étiquettes correspondant aux images.\n",
        "        transform (callable, optional): Transformation à appliquer aux images (par exemple, redimensionner, normaliser).\n",
        "        \n",
        "    \"\"\"\n",
        "    \n",
        "    def __init__(self, data_path, labels, transform=None):\n",
        "        \n",
        "        self.data_path = data_path\n",
        "        self.labels = labels\n",
        "        self.transform = transform\n",
        "\n",
        "    def __len__(self):\n",
        "        return len(self.data_path)\n",
        "\n",
        "    def __getitem__(self, idx):\n",
        "        img_path = self.data_path[idx]\n",
        "        label = self.labels[idx]\n",
        "\n",
        "        img = Image.open(img_path).convert(\"RGB\")\n",
        "\n",
        "        if self.transform:\n",
        "            img = self.transform(img)\n",
        "            inputs = image_processor(img, return_tensors=\"pt\", do_rescale = False)\n",
        "            inputs['pixel_values'] = inputs['pixel_values'].squeeze()\n",
        "            inputs['label'] = torch.tensor(label, dtype=torch.long)\n",
        "\n",
        "        return inputs "
      ]
    },
    {
      "cell_type": "markdown",
      "metadata": {},
      "source": [
        "A new customized image dataset class called AugmentedCustomImageDataset that will be use to prepare input of the experts trained on augmented data"
      ]
    },
    {
      "cell_type": "code",
      "execution_count": null,
      "metadata": {},
      "outputs": [],
      "source": [
        "# expert 1 list of transformations\n",
        "sketch_transform_1 = [\n",
        "    transforms.RandomResizedCrop(size=(size, size), scale=(0.8, 1.0)),\n",
        "    transforms.RandomHorizontalFlip(),\n",
        "    transforms.RandomAffine(degrees=0, translate=(0.1, 0.1), scale=(0.8, 1.2), shear=10),\n",
        "    transforms.RandomPerspective(distortion_scale=0.5, p=0.5),\n",
        "] \n",
        "\n",
        "# expert 2 list of transformations\n",
        "sketch_transform_2 = [\n",
        "    transforms.RandomRotation(0), # identity\n",
        "    transforms.RandomRotation(360*torch.rand(1).item())\n",
        "] \n",
        "\n",
        "# expert 3 list of transformations\n",
        "sketch_transform_3 = sketch_transform_1 + sketch_transform_2 # expert 3\n",
        "\n",
        "# expert 4: no transformation\n",
        "\n",
        "# expert 5 list of transformations\n",
        "sketch_transform_5 = [transforms.RandomVerticalFlip(),\n",
        "                      transforms.RandomRotation(0),\n",
        "                      transforms.RandomHorizontalFlip()] # expert 5\n",
        "\n",
        "\n",
        "class AugmentedCustomImageDataset(Dataset):\n",
        "    def __init__(self, data_path, labels, transform=None):\n",
        "        \"\"\"\n",
        "        Args:\n",
        "            data_path (list): Liste des chemins vers les images.\n",
        "            labels (list): Liste des étiquettes correspondant aux images.\n",
        "            transform (callable, optional): Transformation à appliquer aux images (par exemple, redimensionner, normaliser).\n",
        "        \"\"\"\n",
        "        self.data_path = data_path\n",
        "        self.labels = labels\n",
        "        self.transform = transform\n",
        "\n",
        "    def __len__(self):\n",
        "        return len(self.data_path)\n",
        "\n",
        "    def __getitem__(self, idx):\n",
        "        \n",
        "        img_path = self.data_path[idx]\n",
        "        label = self.labels[idx]\n",
        "\n",
        "        img = Image.open(img_path).convert(\"RGB\")\n",
        "\n",
        "        # depending on the expert that we want to train, a tranformation list will be choose: just keep on line uncomment\n",
        "        img = sketch_transform_1[np.random.randint(len(sketch_transform_1))](img) \n",
        "        # img = sketch_transform_2[np.random.randint(len(sketch_transform_2))](img) \n",
        "        # img = sketch_transform_3[np.random.randint(len(sketch_transform_3))](img)\n",
        "        # no transformation for expert 4\n",
        "        # img = sketch_transform_5[np.random.randint(len(sketch_transform_5))](img) \n",
        "\n",
        "        if self.transform:\n",
        "          img = self.transform(img)\n",
        "          inputs = image_processor(img, return_tensors=\"pt\", do_rescale=False)\n",
        "          inputs['pixel_values'] = inputs['pixel_values'].squeeze()\n",
        "          inputs['label'] = torch.tensor(label, dtype=torch.long)\n",
        "\n",
        "          return inputs "
      ]
    },
    {
      "cell_type": "markdown",
      "metadata": {
        "id": "jvxhhRVQqFbK"
      },
      "source": [
        "A code to observe some transformation results, we can play with it as we want"
      ]
    },
    {
      "cell_type": "code",
      "execution_count": null,
      "metadata": {
        "colab": {
          "base_uri": "https://localhost:8080/",
          "height": 453
        },
        "id": "KBkboDQoqIUT",
        "outputId": "f99aed00-3d20-40dc-d408-fea2b88efa8e"
      },
      "outputs": [
        {
          "data": {
            "text/plain": [
              "<matplotlib.image.AxesImage at 0x7dcc34bee620>"
            ]
          },
          "execution_count": 49,
          "metadata": {},
          "output_type": "execute_result"
        },
        {
          "data": {
            "image/png": "[encoded data removed]",
            "text/plain": [
              "<Figure size 640x480 with 1 Axes>"
            ]
          },
          "metadata": {},
          "output_type": "display_data"
        }
      ],
      "source": [
        "list_transform = [\n",
        "    transforms.RandomResizedCrop(size=(224, 224), scale=(0.8, 1.0)),\n",
        "    transforms.RandomHorizontalFlip(),\n",
        "    transforms.RandomVerticalFlip(),\n",
        "    transforms.RandomAffine(degrees=0, translate=(0.1, 0.1), scale=(0.8, 1.2), shear=10),\n",
        "    transforms.RandomPerspective(distortion_scale=0.5, p=0.5),\n",
        "    transforms.RandomResizedCrop(size=(224, 224), antialias=True)\n",
        "]\n",
        "\n",
        "transform = list_transform[2]\n",
        "\n",
        "sketch_path = '/content/data_sketches/data_sketches/train_images/000_airplane/1.png'\n",
        "sketch = Image.open(sketch_path)\n",
        "\n",
        "transformed_sketch = transform(sketch)\n",
        "\n",
        "plt.imshow(transformed_sketch)"
      ]
    },
    {
      "cell_type": "markdown",
      "metadata": {},
      "source": [
        "Prepare training data"
      ]
    },
    {
      "cell_type": "code",
      "execution_count": null,
      "metadata": {
        "colab": {
          "base_uri": "https://localhost:8080/"
        },
        "id": "YYhfkmmdmoRC",
        "outputId": "3eaa010e-e45b-42d1-a831-bf6c8b8a3d7f"
      },
      "outputs": [
        {
          "name": "stderr",
          "output_type": "stream",
          "text": [
            "100%|██████████| 12000/12000 [00:00<00:00, 2139405.25it/s]\n",
            "100%|██████████| 12000/12000 [00:00<00:00, 1975106.86it/s]\n"
          ]
        },
        {
          "data": {
            "text/plain": [
              "12000"
            ]
          },
          "execution_count": 26,
          "metadata": {},
          "output_type": "execute_result"
        }
      ],
      "source": [
        "image_data = datasets.ImageFolder('data_sketches/data_sketches/train_images')\n",
        "\n",
        "train_data_path = [image_data.imgs[i][0] for i in tqdm(range(len(image_data)))]\n",
        "train_labels = [image_data.imgs[i][1] for i in tqdm(range(len(image_data)))]\n",
        "\n",
        "train_data_path, train_labels= shuffle(train_data_path, train_labels,  random_state=0, n_samples=len(train_data_path))\n",
        "train_dataset = AugmentedCustomImageDataset(data_path=train_data_path, labels=train_labels, transform=data_transforms)\n",
        "len(train_dataset)"
      ]
    },
    {
      "cell_type": "markdown",
      "metadata": {},
      "source": [
        "Prepare validation data"
      ]
    },
    {
      "cell_type": "code",
      "execution_count": null,
      "metadata": {
        "colab": {
          "base_uri": "https://localhost:8080/"
        },
        "id": "YKtSOmIeFzyM",
        "outputId": "897afebf-1307-469c-cbac-eb1449c34b3a"
      },
      "outputs": [
        {
          "name": "stderr",
          "output_type": "stream",
          "text": [
            "100%|██████████| 2250/2250 [00:00<00:00, 1473408.90it/s]\n",
            "100%|██████████| 2250/2250 [00:00<00:00, 1493934.46it/s]\n"
          ]
        },
        {
          "data": {
            "text/plain": [
              "2250"
            ]
          },
          "execution_count": 27,
          "metadata": {},
          "output_type": "execute_result"
        }
      ],
      "source": [
        "image_data = datasets.ImageFolder('data_sketches/data_sketches/val_images')\n",
        "\n",
        "images_classes = image_data.classes\n",
        "val_data_path = [image_data.imgs[i][0] for i in tqdm(range(len(image_data)))]\n",
        "val_labels = [image_data.imgs[i][1] for i in tqdm(range(len(image_data)))]\n",
        "\n",
        "val_dataset = CustomImageDataset(data_path=val_data_path, labels=val_labels, transform=data_transforms)\n",
        "len(val_dataset)"
      ]
    },
    {
      "cell_type": "markdown",
      "metadata": {
        "id": "rrm1MLW1u8kl"
      },
      "source": [
        "### Merge training and validation data and train on all available data"
      ]
    },
    {
      "cell_type": "code",
      "execution_count": 12,
      "metadata": {
        "colab": {
          "base_uri": "https://localhost:8080/"
        },
        "id": "O9ungaz4u9Bd",
        "outputId": "8b16380f-dfff-4f97-a336-083a5058b575"
      },
      "outputs": [
        {
          "name": "stderr",
          "output_type": "stream",
          "text": [
            "100%|██████████| 12000/12000 [00:00<00:00, 2227359.74it/s]\n",
            "100%|██████████| 12000/12000 [00:00<00:00, 2086285.93it/s]\n",
            "100%|██████████| 2250/2250 [00:00<00:00, 1611816.23it/s]\n",
            "100%|██████████| 2250/2250 [00:00<00:00, 1565817.82it/s]\n"
          ]
        },
        {
          "data": {
            "text/plain": [
              "14250"
            ]
          },
          "execution_count": 12,
          "metadata": {},
          "output_type": "execute_result"
        }
      ],
      "source": [
        "image_data_train = datasets.ImageFolder('data_sketches/data_sketches/train_images')\n",
        "image_data_val = datasets.ImageFolder('data_sketches/data_sketches/val_images')\n",
        "images_classes = image_data_train.classes\n",
        "\n",
        "train_data_path = [image_data_train.imgs[i][0] for i in tqdm(range(len(image_data_train)))]\n",
        "train_labels = [image_data_train.imgs[i][1] for i in tqdm(range(len(image_data_train)))]\n",
        "\n",
        "val_data_path = [image_data_val.imgs[i][0] for i in tqdm(range(len(image_data_val)))]\n",
        "val_labels = [image_data_val.imgs[i][1] for i in tqdm(range(len(image_data_val)))]\n",
        "\n",
        "train_all_path = train_data_path + val_data_path\n",
        "train_all_labels = train_labels + val_labels\n",
        "\n",
        "train_all_path, train_all_labels= shuffle(train_all_path, train_all_labels,  random_state=0, n_samples=len(train_all_path))\n",
        "\n",
        "train_dataset = AugmentedCustomImageDataset(data_path=train_all_path, labels=train_all_labels, transform=data_transforms)\n",
        "len(train_dataset)"
      ]
    },
    {
      "cell_type": "markdown",
      "metadata": {},
      "source": [
        "Define the acuuracy metric function"
      ]
    },
    {
      "cell_type": "code",
      "execution_count": null,
      "metadata": {},
      "outputs": [],
      "source": [
        "metric = load_metric(\"accuracy\")\n",
        "def compute_metrics(p):\n",
        "    return metric.compute(predictions=np.argmax(p.predictions, axis=1), references=p.label_ids)"
      ]
    },
    {
      "cell_type": "markdown",
      "metadata": {},
      "source": [
        "Prepare the hugging face trainer: th following parameters change depend on the experiment"
      ]
    },
    {
      "cell_type": "code",
      "execution_count": 14,
      "metadata": {
        "id": "JeM-0wb8t64e"
      },
      "outputs": [],
      "source": [
        "training_args = TrainingArguments(\n",
        "  output_dir=\"./expert1\",\n",
        "  per_device_train_batch_size=64,\n",
        "  evaluation_strategy=\"epoch\",\n",
        "  save_strategy=\"epoch\",\n",
        "  logging_strategy=\"epoch\",\n",
        "  #eval_steps=94, # 4 eval per epoch\n",
        "  warmup_ratio= 0.1,\n",
        "  num_train_epochs=12,\n",
        "  lr_scheduler_type='linear',\n",
        "  fp16=True,\n",
        "  #save_steps=94,#  save per epoch\n",
        "  #logging_steps=22, # 4 logs per epoch\n",
        "  learning_rate=1e-4,\n",
        "  weight_decay=0.02,\n",
        "  remove_unused_columns=False,\n",
        "  push_to_hub=False,\n",
        "  report_to='tensorboard',\n",
        ")"
      ]
    },
    {
      "cell_type": "code",
      "execution_count": 15,
      "metadata": {
        "id": "XWSmuc0ht67K"
      },
      "outputs": [],
      "source": [
        "trainer = Trainer(\n",
        "    model=model,\n",
        "    args=training_args,\n",
        "    compute_metrics=compute_metrics,\n",
        "    train_dataset=train_dataset,\n",
        "    eval_dataset=val_dataset\n",
        ")"
      ]
    },
    {
      "cell_type": "markdown",
      "metadata": {},
      "source": [
        "Start the training and enjoy the loss descreasing and the accuracy augmenting..."
      ]
    },
    {
      "cell_type": "code",
      "execution_count": null,
      "metadata": {
        "colab": {
          "base_uri": "https://localhost:8080/",
          "height": 132
        },
        "id": "uAO-Urjne3N0",
        "outputId": "d61e2d58-6620-419f-bb39-a3059a0714f9"
      },
      "outputs": [
        {
          "name": "stderr",
          "output_type": "stream",
          "text": [
            "/usr/local/lib/python3.10/dist-packages/transformers/optimization.py:411: FutureWarning: This implementation of AdamW is deprecated and will be removed in a future version. Use the PyTorch implementation torch.optim.AdamW instead, or set `no_deprecation_warning=True` to disable this warning\n",
            "  warnings.warn(\n"
          ]
        },
        {
          "data": {
            "text/html": [
              "\n",
              "    <div>\n",
              "      \n",
              "      <progress value='16' max='2676' style='width:300px; height:20px; vertical-align: middle;'></progress>\n",
              "      [  16/2676 00:34 < 1:49:11, 0.41 it/s, Epoch 0.07/12]\n",
              "    </div>\n",
              "    <table border=\"1\" class=\"dataframe\">\n",
              "  <thead>\n",
              " <tr style=\"text-align: left;\">\n",
              "      <th>Step</th>\n",
              "      <th>Training Loss</th>\n",
              "    </tr>\n",
              "  </thead>\n",
              "  <tbody>\n",
              "  </tbody>\n",
              "</table><p>"
            ],
            "text/plain": [
              "<IPython.core.display.HTML object>"
            ]
          },
          "metadata": {},
          "output_type": "display_data"
        }
      ],
      "source": [
        "trainer.train()"
      ]
    },
    {
      "cell_type": "markdown",
      "metadata": {
        "id": "kOxpQdEoXy3J"
      },
      "source": [
        "### Prediction on test data"
      ]
    },
    {
      "cell_type": "markdown",
      "metadata": {},
      "source": [
        "Load the trained model checkpoint"
      ]
    },
    {
      "cell_type": "code",
      "execution_count": 31,
      "metadata": {
        "id": "BJCaUR8qsRH4"
      },
      "outputs": [],
      "source": [
        "model = ViTForImageClassification.from_pretrained(\"/content/expert1\")\n",
        "model = model.to(device)"
      ]
    },
    {
      "cell_type": "markdown",
      "metadata": {},
      "source": [
        "Prepare the test data"
      ]
    },
    {
      "cell_type": "code",
      "execution_count": 32,
      "metadata": {
        "colab": {
          "base_uri": "https://localhost:8080/"
        },
        "id": "JUT3M3b6Xx4Z",
        "outputId": "eed5cf93-8cc5-48ed-818e-19d52681b12e"
      },
      "outputs": [
        {
          "name": "stderr",
          "output_type": "stream",
          "text": [
            "100%|██████████| 5750/5750 [00:00<00:00, 1261164.46it/s]\n",
            "100%|██████████| 5750/5750 [00:00<00:00, 1151456.10it/s]\n"
          ]
        }
      ],
      "source": [
        "image_data = datasets.ImageFolder('data_sketches/data_sketches/test_images')\n",
        "\n",
        "test_data_path = [image_data.imgs[i][0] for i in tqdm(range(len(image_data)))]\n",
        "test_labels = [image_data.imgs[i][1] for i in tqdm(range(len(image_data)))]\n",
        "\n",
        "test_dataset = CustomImageDataset(data_path=test_data_path, labels=test_labels, transform=data_transforms)\n",
        "test_dataloader = DataLoader(test_dataset, batch_size=64, shuffle=False)"
      ]
    },
    {
      "cell_type": "code",
      "execution_count": 34,
      "metadata": {
        "id": "DcVNX1dgXx-Y"
      },
      "outputs": [],
      "source": [
        "def predict_classes(model, loader):\n",
        "  \"\"\"\n",
        "  Function to make predictions on test data\n",
        "  \"\"\"\n",
        "  model.eval()\n",
        "\n",
        "  all_predictions = []\n",
        "\n",
        "  with torch.no_grad():\n",
        "\n",
        "      for batch in tqdm(loader):\n",
        "          inputs = batch[\"pixel_values\"].to(device)\n",
        "\n",
        "          outputs = model(inputs)\n",
        "          predictions = torch.argmax(outputs.logits, dim=1)\n",
        "\n",
        "          all_predictions.extend(predictions.cpu().numpy())\n",
        "\n",
        "  return all_predictions"
      ]
    },
    {
      "cell_type": "markdown",
      "metadata": {},
      "source": [
        "Predict the test data classes and save the predicted array"
      ]
    },
    {
      "cell_type": "code",
      "execution_count": 35,
      "metadata": {
        "colab": {
          "base_uri": "https://localhost:8080/"
        },
        "id": "SOBUAr5ZXlfm",
        "outputId": "a80a6e21-1fc8-4af5-ce93-676e6304e1c4"
      },
      "outputs": [
        {
          "name": "stderr",
          "output_type": "stream",
          "text": [
            "100%|██████████| 90/90 [03:49<00:00,  2.55s/it]\n"
          ]
        }
      ],
      "source": [
        "test_pred = predict_classes(model, test_dataloader)\n",
        "np.save('test_pred_expert1.npy', test_pred)"
      ]
    },
    {
      "cell_type": "markdown",
      "metadata": {},
      "source": [
        "Expert agregation"
      ]
    },
    {
      "cell_type": "code",
      "execution_count": null,
      "metadata": {
        "id": "mh5UnnWuZ6yA"
      },
      "outputs": [],
      "source": [
        "def experts_agregator_n5(alls, experts_acc):\n",
        "\n",
        "    \"\"\"\n",
        "    Function to agregate all predictions of the five experts to make one final predicition\n",
        "    \n",
        "    Args:\n",
        "        alls: a numpy array of size (number of experts, number of test images)\n",
        "        experts_acc: a list of accuracy of all experts\n",
        "    \"\"\"\n",
        "\n",
        "    agreement_distrib = np.zeros((alls.shape[1]))\n",
        "    for sample in range(alls.shape[1]):\n",
        "        unique = np.unique(alls[:, sample], return_counts=True)[1].max()\n",
        "        agreement_distrib[sample] = unique\n",
        "\n",
        "    prediction = np.zeros((alls.shape[1],))\n",
        "    for idx, unique in enumerate(agreement_distrib):\n",
        "        if unique == 5:\n",
        "            prediction[idx] = alls[0, idx]\n",
        "        else:\n",
        "            unique_preds = np.unique(alls[:, idx], return_counts=True)\n",
        "            if unique == 1:\n",
        "                prediction[idx] = alls[0, idx]\n",
        "            elif unique in [3,4]:\n",
        "                majority_class = unique_preds[0][unique_preds[1].argmax()]\n",
        "                prediction[idx] = majority_class\n",
        "            else:\n",
        "                if len(unique_preds[0]) == 3:# vote [2,2,1]\n",
        "                    ttc = np.argsort(-unique_preds[1])[0:2] #top_two_classes\n",
        "                    acc_group0 = sum([experts_acc[i] for i in range(5) if alls[i, idx] == unique_preds[0][ttc[0]]])/2\n",
        "                    acc_group1 = sum([experts_acc[i] for i in range(5) if alls[i, idx] == unique_preds[0][ttc[1]]])/2\n",
        "                    if acc_group0 > acc_group1:\n",
        "                        prediction[idx] = unique_preds[0][ttc[0]]\n",
        "                    else:\n",
        "                        prediction[idx] = unique_preds[0][ttc[1]]\n",
        "                else: # vote [2,1,1,1]\n",
        "                    majority_class = unique_preds[0][unique_preds[1].argmax()]\n",
        "                    prediction[idx] = majority_class\n",
        "\n",
        "\n",
        "\n",
        "    return agreement_distrib, prediction\n",
        "\n",
        "def experts_agregator_n4(alls, experts_acc):\n",
        "    \"\"\"\n",
        "    same function with four experts\n",
        "    \"\"\"\n",
        "\n",
        "    agreement_distrib = np.zeros((alls.shape[1]))\n",
        "    for sample in range(alls.shape[1]):\n",
        "        unique = np.unique(alls[:, sample], return_counts=True)[1].max()\n",
        "        agreement_distrib[sample] = unique\n",
        "\n",
        "    prediction = np.zeros((alls.shape[1],))\n",
        "    for idx, unique in enumerate(agreement_distrib):\n",
        "        if unique == 4:\n",
        "            prediction[idx] = alls[0, idx]\n",
        "        else:\n",
        "            unique_preds = np.unique(alls[:, idx], return_counts=True)\n",
        "            if unique == 1:\n",
        "                prediction[idx] = alls[0, idx]\n",
        "            elif unique == 3:\n",
        "                majority_class = unique_preds[0][unique_preds[1].argmax()]\n",
        "                prediction[idx] = majority_class\n",
        "            else:\n",
        "                if len(unique_preds[0]) == 2: # vote [2,2]\n",
        "                    acc_group0 = sum([experts_acc[i] for i in range(4) if alls[i, idx] == unique_preds[0][0]])/2\n",
        "                    acc_group1 = sum([experts_acc[i] for i in range(4) if alls[i, idx] == unique_preds[0][1]])/2\n",
        "                    if acc_group0 > acc_group1:\n",
        "                        prediction[idx] = unique_preds[0][0]\n",
        "                    else:\n",
        "                        prediction[idx] = unique_preds[0][1]\n",
        "                else: #vote [2,1, 1]\n",
        "                    majority_class = unique_preds[0][unique_preds[1].argmax()]\n",
        "                    prediction[idx] = majority_class\n",
        "\n",
        "    return agreement_distrib, prediction"
      ]
    },
    {
      "cell_type": "markdown",
      "metadata": {},
      "source": [
        "Experts agregation prediction"
      ]
    },
    {
      "cell_type": "code",
      "execution_count": null,
      "metadata": {
        "id": "u0ltMLeNaGR0"
      },
      "outputs": [],
      "source": [
        "experts_acc = [81.2889, 80.8444, 80.993, 79.426, 77.6]\n",
        "\n",
        "# make sure you have the good path\n",
        "alls = np.array([list(np.load(f'/content/test_pred_expert{i}.npy')) for i in range(1, 6)])\n",
        "\n",
        "_, test_data_predictions = experts_agregator_n5(alls, experts_acc)"
      ]
    },
    {
      "cell_type": "code",
      "execution_count": null,
      "metadata": {
        "colab": {
          "base_uri": "https://localhost:8080/",
          "height": 206
        },
        "id": "sjva6D_GXyBz",
        "outputId": "a40e4aa6-c342-4daa-c153-16b6d12a6a84"
      },
      "outputs": [
        {
          "data": {
            "text/html": [
              "\n",
              "  <div id=\"df-462a1403-0510-4b5f-aee9-36a4db1235e7\" class=\"colab-df-container\">\n",
              "    <div>\n",
              "<style scoped>\n",
              "    .dataframe tbody tr th:only-of-type {\n",
              "        vertical-align: middle;\n",
              "    }\n",
              "\n",
              "    .dataframe tbody tr th {\n",
              "        vertical-align: top;\n",
              "    }\n",
              "\n",
              "    .dataframe thead th {\n",
              "        text-align: right;\n",
              "    }\n",
              "</style>\n",
              "<table border=\"1\" class=\"dataframe\">\n",
              "  <thead>\n",
              "    <tr style=\"text-align: right;\">\n",
              "      <th></th>\n",
              "      <th>Id</th>\n",
              "      <th>Category</th>\n",
              "    </tr>\n",
              "  </thead>\n",
              "  <tbody>\n",
              "    <tr>\n",
              "      <th>0</th>\n",
              "      <td>0003b516ee21459bb961c473f00e513b.png</td>\n",
              "      <td>137.0</td>\n",
              "    </tr>\n",
              "    <tr>\n",
              "      <th>1</th>\n",
              "      <td>001962c430c843adb5f9548d50c10f06.png</td>\n",
              "      <td>112.0</td>\n",
              "    </tr>\n",
              "    <tr>\n",
              "      <th>2</th>\n",
              "      <td>001a7264820e4a6784e8b06cd05c531d.png</td>\n",
              "      <td>52.0</td>\n",
              "    </tr>\n",
              "    <tr>\n",
              "      <th>3</th>\n",
              "      <td>001a76fcb3a04957a54a3ec9e59c33db.png</td>\n",
              "      <td>62.0</td>\n",
              "    </tr>\n",
              "    <tr>\n",
              "      <th>4</th>\n",
              "      <td>0024f57a57c84c7cbef382ff841e0845.png</td>\n",
              "      <td>222.0</td>\n",
              "    </tr>\n",
              "  </tbody>\n",
              "</table>\n",
              "</div>\n",
              "    <div class=\"colab-df-buttons\">\n",
              "\n",
              "  <div class=\"colab-df-container\">\n",
              "    <button class=\"colab-df-convert\" onclick=\"convertToInteractive('df-462a1403-0510-4b5f-aee9-36a4db1235e7')\"\n",
              "            title=\"Convert this dataframe to an interactive table.\"\n",
              "            style=\"display:none;\">\n",
              "\n",
              "  <svg xmlns=\"http://www.w3.org/2000/svg\" height=\"24px\" viewBox=\"0 -960 960 960\">\n",
              "    <path d=\"M120-120v-720h720v720H120Zm60-500h600v-160H180v160Zm220 220h160v-160H400v160Zm0 220h160v-160H400v160ZM180-400h160v-160H180v160Zm440 0h160v-160H620v160ZM180-180h160v-160H180v160Zm440 0h160v-160H620v160Z\"/>\n",
              "  </svg>\n",
              "    </button>\n",
              "\n",
              "  <style>\n",
              "    .colab-df-container {\n",
              "      display:flex;\n",
              "      gap: 12px;\n",
              "    }\n",
              "\n",
              "    .colab-df-convert {\n",
              "      background-color: #E8F0FE;\n",
              "      border: none;\n",
              "      border-radius: 50%;\n",
              "      cursor: pointer;\n",
              "      display: none;\n",
              "      fill: #1967D2;\n",
              "      height: 32px;\n",
              "      padding: 0 0 0 0;\n",
              "      width: 32px;\n",
              "    }\n",
              "\n",
              "    .colab-df-convert:hover {\n",
              "      background-color: #E2EBFA;\n",
              "      box-shadow: 0px 1px 2px rgba(60, 64, 67, 0.3), 0px 1px 3px 1px rgba(60, 64, 67, 0.15);\n",
              "      fill: #174EA6;\n",
              "    }\n",
              "\n",
              "    .colab-df-buttons div {\n",
              "      margin-bottom: 4px;\n",
              "    }\n",
              "\n",
              "    [theme=dark] .colab-df-convert {\n",
              "      background-color: #3B4455;\n",
              "      fill: #D2E3FC;\n",
              "    }\n",
              "\n",
              "    [theme=dark] .colab-df-convert:hover {\n",
              "      background-color: #434B5C;\n",
              "      box-shadow: 0px 1px 3px 1px rgba(0, 0, 0, 0.15);\n",
              "      filter: drop-shadow(0px 1px 2px rgba(0, 0, 0, 0.3));\n",
              "      fill: #FFFFFF;\n",
              "    }\n",
              "  </style>\n",
              "\n",
              "    <script>\n",
              "      const buttonEl =\n",
              "        document.querySelector('#df-462a1403-0510-4b5f-aee9-36a4db1235e7 button.colab-df-convert');\n",
              "      buttonEl.style.display =\n",
              "        google.colab.kernel.accessAllowed ? 'block' : 'none';\n",
              "\n",
              "      async function convertToInteractive(key) {\n",
              "        const element = document.querySelector('#df-462a1403-0510-4b5f-aee9-36a4db1235e7');\n",
              "        const dataTable =\n",
              "          await google.colab.kernel.invokeFunction('convertToInteractive',\n",
              "                                                    [key], {});\n",
              "        if (!dataTable) return;\n",
              "\n",
              "        const docLinkHtml = 'Like what you see? Visit the ' +\n",
              "          '<a target=\"_blank\" href=https://colab.research.google.com/notebooks/data_table.ipynb>data table notebook</a>'\n",
              "          + ' to learn more about interactive tables.';\n",
              "        element.innerHTML = '';\n",
              "        dataTable['output_type'] = 'display_data';\n",
              "        await google.colab.output.renderOutput(dataTable, element);\n",
              "        const docLink = document.createElement('div');\n",
              "        docLink.innerHTML = docLinkHtml;\n",
              "        element.appendChild(docLink);\n",
              "      }\n",
              "    </script>\n",
              "  </div>\n",
              "\n",
              "\n",
              "<div id=\"df-ce215a27-9b27-4c35-890d-9eba4092f567\">\n",
              "  <button class=\"colab-df-quickchart\" onclick=\"quickchart('df-ce215a27-9b27-4c35-890d-9eba4092f567')\"\n",
              "            title=\"Suggest charts\"\n",
              "            style=\"display:none;\">\n",
              "\n",
              "<svg xmlns=\"http://www.w3.org/2000/svg\" height=\"24px\"viewBox=\"0 0 24 24\"\n",
              "     width=\"24px\">\n",
              "    <g>\n",
              "        <path d=\"M19 3H5c-1.1 0-2 .9-2 2v14c0 1.1.9 2 2 2h14c1.1 0 2-.9 2-2V5c0-1.1-.9-2-2-2zM9 17H7v-7h2v7zm4 0h-2V7h2v10zm4 0h-2v-4h2v4z\"/>\n",
              "    </g>\n",
              "</svg>\n",
              "  </button>\n",
              "\n",
              "<style>\n",
              "  .colab-df-quickchart {\n",
              "      --bg-color: #E8F0FE;\n",
              "      --fill-color: #1967D2;\n",
              "      --hover-bg-color: #E2EBFA;\n",
              "      --hover-fill-color: #174EA6;\n",
              "      --disabled-fill-color: #AAA;\n",
              "      --disabled-bg-color: #DDD;\n",
              "  }\n",
              "\n",
              "  [theme=dark] .colab-df-quickchart {\n",
              "      --bg-color: #3B4455;\n",
              "      --fill-color: #D2E3FC;\n",
              "      --hover-bg-color: #434B5C;\n",
              "      --hover-fill-color: #FFFFFF;\n",
              "      --disabled-bg-color: #3B4455;\n",
              "      --disabled-fill-color: #666;\n",
              "  }\n",
              "\n",
              "  .colab-df-quickchart {\n",
              "    background-color: var(--bg-color);\n",
              "    border: none;\n",
              "    border-radius: 50%;\n",
              "    cursor: pointer;\n",
              "    display: none;\n",
              "    fill: var(--fill-color);\n",
              "    height: 32px;\n",
              "    padding: 0;\n",
              "    width: 32px;\n",
              "  }\n",
              "\n",
              "  .colab-df-quickchart:hover {\n",
              "    background-color: var(--hover-bg-color);\n",
              "    box-shadow: 0 1px 2px rgba(60, 64, 67, 0.3), 0 1px 3px 1px rgba(60, 64, 67, 0.15);\n",
              "    fill: var(--button-hover-fill-color);\n",
              "  }\n",
              "\n",
              "  .colab-df-quickchart-complete:disabled,\n",
              "  .colab-df-quickchart-complete:disabled:hover {\n",
              "    background-color: var(--disabled-bg-color);\n",
              "    fill: var(--disabled-fill-color);\n",
              "    box-shadow: none;\n",
              "  }\n",
              "\n",
              "  .colab-df-spinner {\n",
              "    border: 2px solid var(--fill-color);\n",
              "    border-color: transparent;\n",
              "    border-bottom-color: var(--fill-color);\n",
              "    animation:\n",
              "      spin 1s steps(1) infinite;\n",
              "  }\n",
              "\n",
              "  @keyframes spin {\n",
              "    0% {\n",
              "      border-color: transparent;\n",
              "      border-bottom-color: var(--fill-color);\n",
              "      border-left-color: var(--fill-color);\n",
              "    }\n",
              "    20% {\n",
              "      border-color: transparent;\n",
              "      border-left-color: var(--fill-color);\n",
              "      border-top-color: var(--fill-color);\n",
              "    }\n",
              "    30% {\n",
              "      border-color: transparent;\n",
              "      border-left-color: var(--fill-color);\n",
              "      border-top-color: var(--fill-color);\n",
              "      border-right-color: var(--fill-color);\n",
              "    }\n",
              "    40% {\n",
              "      border-color: transparent;\n",
              "      border-right-color: var(--fill-color);\n",
              "      border-top-color: var(--fill-color);\n",
              "    }\n",
              "    60% {\n",
              "      border-color: transparent;\n",
              "      border-right-color: var(--fill-color);\n",
              "    }\n",
              "    80% {\n",
              "      border-color: transparent;\n",
              "      border-right-color: var(--fill-color);\n",
              "      border-bottom-color: var(--fill-color);\n",
              "    }\n",
              "    90% {\n",
              "      border-color: transparent;\n",
              "      border-bottom-color: var(--fill-color);\n",
              "    }\n",
              "  }\n",
              "</style>\n",
              "\n",
              "  <script>\n",
              "    async function quickchart(key) {\n",
              "      const quickchartButtonEl =\n",
              "        document.querySelector('#' + key + ' button');\n",
              "      quickchartButtonEl.disabled = true;  // To prevent multiple clicks.\n",
              "      quickchartButtonEl.classList.add('colab-df-spinner');\n",
              "      try {\n",
              "        const charts = await google.colab.kernel.invokeFunction(\n",
              "            'suggestCharts', [key], {});\n",
              "      } catch (error) {\n",
              "        console.error('Error during call to suggestCharts:', error);\n",
              "      }\n",
              "      quickchartButtonEl.classList.remove('colab-df-spinner');\n",
              "      quickchartButtonEl.classList.add('colab-df-quickchart-complete');\n",
              "    }\n",
              "    (() => {\n",
              "      let quickchartButtonEl =\n",
              "        document.querySelector('#df-ce215a27-9b27-4c35-890d-9eba4092f567 button');\n",
              "      quickchartButtonEl.style.display =\n",
              "        google.colab.kernel.accessAllowed ? 'block' : 'none';\n",
              "    })();\n",
              "  </script>\n",
              "</div>\n",
              "    </div>\n",
              "  </div>\n"
            ],
            "text/plain": [
              "                                     Id  Category\n",
              "0  0003b516ee21459bb961c473f00e513b.png     137.0\n",
              "1  001962c430c843adb5f9548d50c10f06.png     112.0\n",
              "2  001a7264820e4a6784e8b06cd05c531d.png      52.0\n",
              "3  001a76fcb3a04957a54a3ec9e59c33db.png      62.0\n",
              "4  0024f57a57c84c7cbef382ff841e0845.png     222.0"
            ]
          },
          "execution_count": 85,
          "metadata": {},
          "output_type": "execute_result"
        }
      ],
      "source": [
        "\n",
        "kaggle_tab = pd.DataFrame([], columns=['Id', 'Label'])\n",
        "\n",
        "kaggle_tab['Id'] = [i.split('/')[-1].split('.')[0] for i in test_data_path]\n",
        "kaggle_tab['Category'] = test_data_predictions.astype(int)\n",
        "\n",
        "kaggle_tab.head()"
      ]
    },
    {
      "cell_type": "markdown",
      "metadata": {},
      "source": [
        "Save the test predictions file and submit it on kaggle, Ta daaa !!"
      ]
    },
    {
      "cell_type": "code",
      "execution_count": null,
      "metadata": {
        "id": "9C0DQoHFcJl_"
      },
      "outputs": [],
      "source": [
        "kaggle_tab.to_csv('kaggle_tab.csv', index=False)"
      ]
    }
  ],
  "metadata": {
    "accelerator": "GPU",
    "colab": {
      "gpuType": "T4",
      "provenance": []
    },
    "kernelspec": {
      "display_name": "Python 3",
      "name": "python3"
    },
    "language_info": {
      "codemirror_mode": {
        "name": "ipython",
        "version": 3
      },
      "file_extension": ".py",
      "mimetype": "text/x-python",
      "name": "python",
      "nbconvert_exporter": "python",
      "pygments_lexer": "ipython3",
      "version": "3.10.11"
    },
    "widgets": {
      "application/vnd.jupyter.widget-state+json": {
        "0c4d14a756464c83a5c11226a2155a1e": {
          "model_module": "@jupyter-widgets/controls",
          "model_module_version": "1.5.0",
          "model_name": "HBoxModel",
          "state": {
            "_dom_classes": [],
            "_model_module": "@jupyter-widgets/controls",
            "_model_module_version": "1.5.0",
            "_model_name": "HBoxModel",
            "_view_count": null,
            "_view_module": "@jupyter-widgets/controls",
            "_view_module_version": "1.5.0",
            "_view_name": "HBoxView",
            "box_style": "",
            "children": [
              "IPY_MODEL_5c34cf0836bc482786964986a764d9bc",
              "IPY_MODEL_fbe7e11365fa4a24b9de083f575885d4",
              "IPY_MODEL_418a875459554174aca8e344f2b45092"
            ],
            "layout": "IPY_MODEL_6e9ba52a5d9848dcbb1d0a1a10964f33"
          }
        },
        "0ca60b19ad5f4031bb0ee7c603e0a059": {
          "model_module": "@jupyter-widgets/controls",
          "model_module_version": "1.5.0",
          "model_name": "FloatProgressModel",
          "state": {
            "_dom_classes": [],
            "_model_module": "@jupyter-widgets/controls",
            "_model_module_version": "1.5.0",
            "_model_name": "FloatProgressModel",
            "_view_count": null,
            "_view_module": "@jupyter-widgets/controls",
            "_view_module_version": "1.5.0",
            "_view_name": "ProgressView",
            "bar_style": "success",
            "description": "",
            "description_tooltip": null,
            "layout": "IPY_MODEL_e8508d71377e4f30acba7a2ca5e0d589",
            "max": 502,
            "min": 0,
            "orientation": "horizontal",
            "style": "IPY_MODEL_84baa47b925a4bcfbfefbc04360eb5b7",
            "value": 502
          }
        },
        "129a646f61c54edcb68df3097fbe9538": {
          "model_module": "@jupyter-widgets/base",
          "model_module_version": "1.2.0",
          "model_name": "LayoutModel",
          "state": {
            "_model_module": "@jupyter-widgets/base",
            "_model_module_version": "1.2.0",
            "_model_name": "LayoutModel",
            "_view_count": null,
            "_view_module": "@jupyter-widgets/base",
            "_view_module_version": "1.2.0",
            "_view_name": "LayoutView",
            "align_content": null,
            "align_items": null,
            "align_self": null,
            "border": null,
            "bottom": null,
            "display": null,
            "flex": null,
            "flex_flow": null,
            "grid_area": null,
            "grid_auto_columns": null,
            "grid_auto_flow": null,
            "grid_auto_rows": null,
            "grid_column": null,
            "grid_gap": null,
            "grid_row": null,
            "grid_template_areas": null,
            "grid_template_columns": null,
            "grid_template_rows": null,
            "height": null,
            "justify_content": null,
            "justify_items": null,
            "left": null,
            "margin": null,
            "max_height": null,
            "max_width": null,
            "min_height": null,
            "min_width": null,
            "object_fit": null,
            "object_position": null,
            "order": null,
            "overflow": null,
            "overflow_x": null,
            "overflow_y": null,
            "padding": null,
            "right": null,
            "top": null,
            "visibility": null,
            "width": null
          }
        },
        "13f02444e8974443a9874d7b6102caea": {
          "model_module": "@jupyter-widgets/controls",
          "model_module_version": "1.5.0",
          "model_name": "ProgressStyleModel",
          "state": {
            "_model_module": "@jupyter-widgets/controls",
            "_model_module_version": "1.5.0",
            "_model_name": "ProgressStyleModel",
            "_view_count": null,
            "_view_module": "@jupyter-widgets/base",
            "_view_module_version": "1.2.0",
            "_view_name": "StyleView",
            "bar_color": null,
            "description_width": ""
          }
        },
        "2bb9751489fa4e2ab728717c32cd2b04": {
          "model_module": "@jupyter-widgets/base",
          "model_module_version": "1.2.0",
          "model_name": "LayoutModel",
          "state": {
            "_model_module": "@jupyter-widgets/base",
            "_model_module_version": "1.2.0",
            "_model_name": "LayoutModel",
            "_view_count": null,
            "_view_module": "@jupyter-widgets/base",
            "_view_module_version": "1.2.0",
            "_view_name": "LayoutView",
            "align_content": null,
            "align_items": null,
            "align_self": null,
            "border": null,
            "bottom": null,
            "display": null,
            "flex": null,
            "flex_flow": null,
            "grid_area": null,
            "grid_auto_columns": null,
            "grid_auto_flow": null,
            "grid_auto_rows": null,
            "grid_column": null,
            "grid_gap": null,
            "grid_row": null,
            "grid_template_areas": null,
            "grid_template_columns": null,
            "grid_template_rows": null,
            "height": null,
            "justify_content": null,
            "justify_items": null,
            "left": null,
            "margin": null,
            "max_height": null,
            "max_width": null,
            "min_height": null,
            "min_width": null,
            "object_fit": null,
            "object_position": null,
            "order": null,
            "overflow": null,
            "overflow_x": null,
            "overflow_y": null,
            "padding": null,
            "right": null,
            "top": null,
            "visibility": null,
            "width": null
          }
        },
        "32b70fd20d8b410d9e99ef5031221e15": {
          "model_module": "@jupyter-widgets/controls",
          "model_module_version": "1.5.0",
          "model_name": "ProgressStyleModel",
          "state": {
            "_model_module": "@jupyter-widgets/controls",
            "_model_module_version": "1.5.0",
            "_model_name": "ProgressStyleModel",
            "_view_count": null,
            "_view_module": "@jupyter-widgets/base",
            "_view_module_version": "1.2.0",
            "_view_name": "StyleView",
            "bar_color": null,
            "description_width": ""
          }
        },
        "357bbbbc11e6464cadb272f193cc0552": {
          "model_module": "@jupyter-widgets/controls",
          "model_module_version": "1.5.0",
          "model_name": "FloatProgressModel",
          "state": {
            "_dom_classes": [],
            "_model_module": "@jupyter-widgets/controls",
            "_model_module_version": "1.5.0",
            "_model_name": "FloatProgressModel",
            "_view_count": null,
            "_view_module": "@jupyter-widgets/controls",
            "_view_module_version": "1.5.0",
            "_view_name": "ProgressView",
            "bar_style": "success",
            "description": "",
            "description_tooltip": null,
            "layout": "IPY_MODEL_2bb9751489fa4e2ab728717c32cd2b04",
            "max": 1652,
            "min": 0,
            "orientation": "horizontal",
            "style": "IPY_MODEL_13f02444e8974443a9874d7b6102caea",
            "value": 1652
          }
        },
        "37b97d33c88a4e56929f8519ea58f386": {
          "model_module": "@jupyter-widgets/controls",
          "model_module_version": "1.5.0",
          "model_name": "HBoxModel",
          "state": {
            "_dom_classes": [],
            "_model_module": "@jupyter-widgets/controls",
            "_model_module_version": "1.5.0",
            "_model_name": "HBoxModel",
            "_view_count": null,
            "_view_module": "@jupyter-widgets/controls",
            "_view_module_version": "1.5.0",
            "_view_name": "HBoxView",
            "box_style": "",
            "children": [
              "IPY_MODEL_7b5c3b4fa204403ab7c1d5a5d6e01d61",
              "IPY_MODEL_357bbbbc11e6464cadb272f193cc0552",
              "IPY_MODEL_8a79249bd69c4678b5be384f6258445e"
            ],
            "layout": "IPY_MODEL_94135c9f650a4c889591465c22a7ab43"
          }
        },
        "3da76269b0d34ea59526ba5981ac1c09": {
          "model_module": "@jupyter-widgets/base",
          "model_module_version": "1.2.0",
          "model_name": "LayoutModel",
          "state": {
            "_model_module": "@jupyter-widgets/base",
            "_model_module_version": "1.2.0",
            "_model_name": "LayoutModel",
            "_view_count": null,
            "_view_module": "@jupyter-widgets/base",
            "_view_module_version": "1.2.0",
            "_view_name": "LayoutView",
            "align_content": null,
            "align_items": null,
            "align_self": null,
            "border": null,
            "bottom": null,
            "display": null,
            "flex": null,
            "flex_flow": null,
            "grid_area": null,
            "grid_auto_columns": null,
            "grid_auto_flow": null,
            "grid_auto_rows": null,
            "grid_column": null,
            "grid_gap": null,
            "grid_row": null,
            "grid_template_areas": null,
            "grid_template_columns": null,
            "grid_template_rows": null,
            "height": null,
            "justify_content": null,
            "justify_items": null,
            "left": null,
            "margin": null,
            "max_height": null,
            "max_width": null,
            "min_height": null,
            "min_width": null,
            "object_fit": null,
            "object_position": null,
            "order": null,
            "overflow": null,
            "overflow_x": null,
            "overflow_y": null,
            "padding": null,
            "right": null,
            "top": null,
            "visibility": null,
            "width": null
          }
        },
        "418a875459554174aca8e344f2b45092": {
          "model_module": "@jupyter-widgets/controls",
          "model_module_version": "1.5.0",
          "model_name": "HTMLModel",
          "state": {
            "_dom_classes": [],
            "_model_module": "@jupyter-widgets/controls",
            "_model_module_version": "1.5.0",
            "_model_name": "HTMLModel",
            "_view_count": null,
            "_view_module": "@jupyter-widgets/controls",
            "_view_module_version": "1.5.0",
            "_view_name": "HTMLView",
            "description": "",
            "description_tooltip": null,
            "layout": "IPY_MODEL_fa67f428143e4f74a6554e75f482e5ad",
            "placeholder": "​",
            "style": "IPY_MODEL_b9204f746faf44ab90cab7bef624099c",
            "value": " 160/160 [00:00&lt;00:00, 6.28kB/s]"
          }
        },
        "4f2a5f882b0848b1bd7259969884d269": {
          "model_module": "@jupyter-widgets/base",
          "model_module_version": "1.2.0",
          "model_name": "LayoutModel",
          "state": {
            "_model_module": "@jupyter-widgets/base",
            "_model_module_version": "1.2.0",
            "_model_name": "LayoutModel",
            "_view_count": null,
            "_view_module": "@jupyter-widgets/base",
            "_view_module_version": "1.2.0",
            "_view_name": "LayoutView",
            "align_content": null,
            "align_items": null,
            "align_self": null,
            "border": null,
            "bottom": null,
            "display": null,
            "flex": null,
            "flex_flow": null,
            "grid_area": null,
            "grid_auto_columns": null,
            "grid_auto_flow": null,
            "grid_auto_rows": null,
            "grid_column": null,
            "grid_gap": null,
            "grid_row": null,
            "grid_template_areas": null,
            "grid_template_columns": null,
            "grid_template_rows": null,
            "height": null,
            "justify_content": null,
            "justify_items": null,
            "left": null,
            "margin": null,
            "max_height": null,
            "max_width": null,
            "min_height": null,
            "min_width": null,
            "object_fit": null,
            "object_position": null,
            "order": null,
            "overflow": null,
            "overflow_x": null,
            "overflow_y": null,
            "padding": null,
            "right": null,
            "top": null,
            "visibility": null,
            "width": null
          }
        },
        "5687812add0043e1aed475943bb49f0b": {
          "model_module": "@jupyter-widgets/controls",
          "model_module_version": "1.5.0",
          "model_name": "HTMLModel",
          "state": {
            "_dom_classes": [],
            "_model_module": "@jupyter-widgets/controls",
            "_model_module_version": "1.5.0",
            "_model_name": "HTMLModel",
            "_view_count": null,
            "_view_module": "@jupyter-widgets/controls",
            "_view_module_version": "1.5.0",
            "_view_name": "HTMLView",
            "description": "",
            "description_tooltip": null,
            "layout": "IPY_MODEL_fb541d15f2e743bcb159fe5e4e8c83d5",
            "placeholder": "​",
            "style": "IPY_MODEL_9cfc0689561041d18356f023863c6d15",
            "value": "config.json: 100%"
          }
        },
        "5b9f18e00552483fb49a9c876b59cb98": {
          "model_module": "@jupyter-widgets/controls",
          "model_module_version": "1.5.0",
          "model_name": "DescriptionStyleModel",
          "state": {
            "_model_module": "@jupyter-widgets/controls",
            "_model_module_version": "1.5.0",
            "_model_name": "DescriptionStyleModel",
            "_view_count": null,
            "_view_module": "@jupyter-widgets/base",
            "_view_module_version": "1.2.0",
            "_view_name": "StyleView",
            "description_width": ""
          }
        },
        "5c34cf0836bc482786964986a764d9bc": {
          "model_module": "@jupyter-widgets/controls",
          "model_module_version": "1.5.0",
          "model_name": "HTMLModel",
          "state": {
            "_dom_classes": [],
            "_model_module": "@jupyter-widgets/controls",
            "_model_module_version": "1.5.0",
            "_model_name": "HTMLModel",
            "_view_count": null,
            "_view_module": "@jupyter-widgets/controls",
            "_view_module_version": "1.5.0",
            "_view_name": "HTMLView",
            "description": "",
            "description_tooltip": null,
            "layout": "IPY_MODEL_ea7367e3ba9e42b985ed4eb1968a13a9",
            "placeholder": "​",
            "style": "IPY_MODEL_f3ab79e78e1645868b42fc29e13f0524",
            "value": "preprocessor_config.json: 100%"
          }
        },
        "5ceafafe3c3f4c4bb06d052c145f2a3d": {
          "model_module": "@jupyter-widgets/controls",
          "model_module_version": "1.5.0",
          "model_name": "HBoxModel",
          "state": {
            "_dom_classes": [],
            "_model_module": "@jupyter-widgets/controls",
            "_model_module_version": "1.5.0",
            "_model_name": "HBoxModel",
            "_view_count": null,
            "_view_module": "@jupyter-widgets/controls",
            "_view_module_version": "1.5.0",
            "_view_name": "HBoxView",
            "box_style": "",
            "children": [
              "IPY_MODEL_5687812add0043e1aed475943bb49f0b",
              "IPY_MODEL_0ca60b19ad5f4031bb0ee7c603e0a059",
              "IPY_MODEL_fcd6a9021ef740d2a67167d6c630778c"
            ],
            "layout": "IPY_MODEL_129a646f61c54edcb68df3097fbe9538"
          }
        },
        "6e9ba52a5d9848dcbb1d0a1a10964f33": {
          "model_module": "@jupyter-widgets/base",
          "model_module_version": "1.2.0",
          "model_name": "LayoutModel",
          "state": {
            "_model_module": "@jupyter-widgets/base",
            "_model_module_version": "1.2.0",
            "_model_name": "LayoutModel",
            "_view_count": null,
            "_view_module": "@jupyter-widgets/base",
            "_view_module_version": "1.2.0",
            "_view_name": "LayoutView",
            "align_content": null,
            "align_items": null,
            "align_self": null,
            "border": null,
            "bottom": null,
            "display": null,
            "flex": null,
            "flex_flow": null,
            "grid_area": null,
            "grid_auto_columns": null,
            "grid_auto_flow": null,
            "grid_auto_rows": null,
            "grid_column": null,
            "grid_gap": null,
            "grid_row": null,
            "grid_template_areas": null,
            "grid_template_columns": null,
            "grid_template_rows": null,
            "height": null,
            "justify_content": null,
            "justify_items": null,
            "left": null,
            "margin": null,
            "max_height": null,
            "max_width": null,
            "min_height": null,
            "min_width": null,
            "object_fit": null,
            "object_position": null,
            "order": null,
            "overflow": null,
            "overflow_x": null,
            "overflow_y": null,
            "padding": null,
            "right": null,
            "top": null,
            "visibility": null,
            "width": null
          }
        },
        "778bda903e924995afb948844637deda": {
          "model_module": "@jupyter-widgets/base",
          "model_module_version": "1.2.0",
          "model_name": "LayoutModel",
          "state": {
            "_model_module": "@jupyter-widgets/base",
            "_model_module_version": "1.2.0",
            "_model_name": "LayoutModel",
            "_view_count": null,
            "_view_module": "@jupyter-widgets/base",
            "_view_module_version": "1.2.0",
            "_view_name": "LayoutView",
            "align_content": null,
            "align_items": null,
            "align_self": null,
            "border": null,
            "bottom": null,
            "display": null,
            "flex": null,
            "flex_flow": null,
            "grid_area": null,
            "grid_auto_columns": null,
            "grid_auto_flow": null,
            "grid_auto_rows": null,
            "grid_column": null,
            "grid_gap": null,
            "grid_row": null,
            "grid_template_areas": null,
            "grid_template_columns": null,
            "grid_template_rows": null,
            "height": null,
            "justify_content": null,
            "justify_items": null,
            "left": null,
            "margin": null,
            "max_height": null,
            "max_width": null,
            "min_height": null,
            "min_width": null,
            "object_fit": null,
            "object_position": null,
            "order": null,
            "overflow": null,
            "overflow_x": null,
            "overflow_y": null,
            "padding": null,
            "right": null,
            "top": null,
            "visibility": null,
            "width": null
          }
        },
        "7b5c3b4fa204403ab7c1d5a5d6e01d61": {
          "model_module": "@jupyter-widgets/controls",
          "model_module_version": "1.5.0",
          "model_name": "HTMLModel",
          "state": {
            "_dom_classes": [],
            "_model_module": "@jupyter-widgets/controls",
            "_model_module_version": "1.5.0",
            "_model_name": "HTMLModel",
            "_view_count": null,
            "_view_module": "@jupyter-widgets/controls",
            "_view_module_version": "1.5.0",
            "_view_name": "HTMLView",
            "description": "",
            "description_tooltip": null,
            "layout": "IPY_MODEL_3da76269b0d34ea59526ba5981ac1c09",
            "placeholder": "​",
            "style": "IPY_MODEL_5b9f18e00552483fb49a9c876b59cb98",
            "value": "Downloading builder script: "
          }
        },
        "84baa47b925a4bcfbfefbc04360eb5b7": {
          "model_module": "@jupyter-widgets/controls",
          "model_module_version": "1.5.0",
          "model_name": "ProgressStyleModel",
          "state": {
            "_model_module": "@jupyter-widgets/controls",
            "_model_module_version": "1.5.0",
            "_model_name": "ProgressStyleModel",
            "_view_count": null,
            "_view_module": "@jupyter-widgets/base",
            "_view_module_version": "1.2.0",
            "_view_name": "StyleView",
            "bar_color": null,
            "description_width": ""
          }
        },
        "8a79249bd69c4678b5be384f6258445e": {
          "model_module": "@jupyter-widgets/controls",
          "model_module_version": "1.5.0",
          "model_name": "HTMLModel",
          "state": {
            "_dom_classes": [],
            "_model_module": "@jupyter-widgets/controls",
            "_model_module_version": "1.5.0",
            "_model_name": "HTMLModel",
            "_view_count": null,
            "_view_module": "@jupyter-widgets/controls",
            "_view_module_version": "1.5.0",
            "_view_name": "HTMLView",
            "description": "",
            "description_tooltip": null,
            "layout": "IPY_MODEL_778bda903e924995afb948844637deda",
            "placeholder": "​",
            "style": "IPY_MODEL_cd4727163d864d118db3958fe013b395",
            "value": " 4.21k/? [00:00&lt;00:00, 136kB/s]"
          }
        },
        "94135c9f650a4c889591465c22a7ab43": {
          "model_module": "@jupyter-widgets/base",
          "model_module_version": "1.2.0",
          "model_name": "LayoutModel",
          "state": {
            "_model_module": "@jupyter-widgets/base",
            "_model_module_version": "1.2.0",
            "_model_name": "LayoutModel",
            "_view_count": null,
            "_view_module": "@jupyter-widgets/base",
            "_view_module_version": "1.2.0",
            "_view_name": "LayoutView",
            "align_content": null,
            "align_items": null,
            "align_self": null,
            "border": null,
            "bottom": null,
            "display": null,
            "flex": null,
            "flex_flow": null,
            "grid_area": null,
            "grid_auto_columns": null,
            "grid_auto_flow": null,
            "grid_auto_rows": null,
            "grid_column": null,
            "grid_gap": null,
            "grid_row": null,
            "grid_template_areas": null,
            "grid_template_columns": null,
            "grid_template_rows": null,
            "height": null,
            "justify_content": null,
            "justify_items": null,
            "left": null,
            "margin": null,
            "max_height": null,
            "max_width": null,
            "min_height": null,
            "min_width": null,
            "object_fit": null,
            "object_position": null,
            "order": null,
            "overflow": null,
            "overflow_x": null,
            "overflow_y": null,
            "padding": null,
            "right": null,
            "top": null,
            "visibility": null,
            "width": null
          }
        },
        "9b9c8de5e7df48ebb9b1e794f5361024": {
          "model_module": "@jupyter-widgets/base",
          "model_module_version": "1.2.0",
          "model_name": "LayoutModel",
          "state": {
            "_model_module": "@jupyter-widgets/base",
            "_model_module_version": "1.2.0",
            "_model_name": "LayoutModel",
            "_view_count": null,
            "_view_module": "@jupyter-widgets/base",
            "_view_module_version": "1.2.0",
            "_view_name": "LayoutView",
            "align_content": null,
            "align_items": null,
            "align_self": null,
            "border": null,
            "bottom": null,
            "display": null,
            "flex": null,
            "flex_flow": null,
            "grid_area": null,
            "grid_auto_columns": null,
            "grid_auto_flow": null,
            "grid_auto_rows": null,
            "grid_column": null,
            "grid_gap": null,
            "grid_row": null,
            "grid_template_areas": null,
            "grid_template_columns": null,
            "grid_template_rows": null,
            "height": null,
            "justify_content": null,
            "justify_items": null,
            "left": null,
            "margin": null,
            "max_height": null,
            "max_width": null,
            "min_height": null,
            "min_width": null,
            "object_fit": null,
            "object_position": null,
            "order": null,
            "overflow": null,
            "overflow_x": null,
            "overflow_y": null,
            "padding": null,
            "right": null,
            "top": null,
            "visibility": null,
            "width": null
          }
        },
        "9cfc0689561041d18356f023863c6d15": {
          "model_module": "@jupyter-widgets/controls",
          "model_module_version": "1.5.0",
          "model_name": "DescriptionStyleModel",
          "state": {
            "_model_module": "@jupyter-widgets/controls",
            "_model_module_version": "1.5.0",
            "_model_name": "DescriptionStyleModel",
            "_view_count": null,
            "_view_module": "@jupyter-widgets/base",
            "_view_module_version": "1.2.0",
            "_view_name": "StyleView",
            "description_width": ""
          }
        },
        "b9204f746faf44ab90cab7bef624099c": {
          "model_module": "@jupyter-widgets/controls",
          "model_module_version": "1.5.0",
          "model_name": "DescriptionStyleModel",
          "state": {
            "_model_module": "@jupyter-widgets/controls",
            "_model_module_version": "1.5.0",
            "_model_name": "DescriptionStyleModel",
            "_view_count": null,
            "_view_module": "@jupyter-widgets/base",
            "_view_module_version": "1.2.0",
            "_view_name": "StyleView",
            "description_width": ""
          }
        },
        "cd4727163d864d118db3958fe013b395": {
          "model_module": "@jupyter-widgets/controls",
          "model_module_version": "1.5.0",
          "model_name": "DescriptionStyleModel",
          "state": {
            "_model_module": "@jupyter-widgets/controls",
            "_model_module_version": "1.5.0",
            "_model_name": "DescriptionStyleModel",
            "_view_count": null,
            "_view_module": "@jupyter-widgets/base",
            "_view_module_version": "1.2.0",
            "_view_name": "StyleView",
            "description_width": ""
          }
        },
        "e72b40abe9974fab93b852ee337966c9": {
          "model_module": "@jupyter-widgets/controls",
          "model_module_version": "1.5.0",
          "model_name": "DescriptionStyleModel",
          "state": {
            "_model_module": "@jupyter-widgets/controls",
            "_model_module_version": "1.5.0",
            "_model_name": "DescriptionStyleModel",
            "_view_count": null,
            "_view_module": "@jupyter-widgets/base",
            "_view_module_version": "1.2.0",
            "_view_name": "StyleView",
            "description_width": ""
          }
        },
        "e8508d71377e4f30acba7a2ca5e0d589": {
          "model_module": "@jupyter-widgets/base",
          "model_module_version": "1.2.0",
          "model_name": "LayoutModel",
          "state": {
            "_model_module": "@jupyter-widgets/base",
            "_model_module_version": "1.2.0",
            "_model_name": "LayoutModel",
            "_view_count": null,
            "_view_module": "@jupyter-widgets/base",
            "_view_module_version": "1.2.0",
            "_view_name": "LayoutView",
            "align_content": null,
            "align_items": null,
            "align_self": null,
            "border": null,
            "bottom": null,
            "display": null,
            "flex": null,
            "flex_flow": null,
            "grid_area": null,
            "grid_auto_columns": null,
            "grid_auto_flow": null,
            "grid_auto_rows": null,
            "grid_column": null,
            "grid_gap": null,
            "grid_row": null,
            "grid_template_areas": null,
            "grid_template_columns": null,
            "grid_template_rows": null,
            "height": null,
            "justify_content": null,
            "justify_items": null,
            "left": null,
            "margin": null,
            "max_height": null,
            "max_width": null,
            "min_height": null,
            "min_width": null,
            "object_fit": null,
            "object_position": null,
            "order": null,
            "overflow": null,
            "overflow_x": null,
            "overflow_y": null,
            "padding": null,
            "right": null,
            "top": null,
            "visibility": null,
            "width": null
          }
        },
        "ea7367e3ba9e42b985ed4eb1968a13a9": {
          "model_module": "@jupyter-widgets/base",
          "model_module_version": "1.2.0",
          "model_name": "LayoutModel",
          "state": {
            "_model_module": "@jupyter-widgets/base",
            "_model_module_version": "1.2.0",
            "_model_name": "LayoutModel",
            "_view_count": null,
            "_view_module": "@jupyter-widgets/base",
            "_view_module_version": "1.2.0",
            "_view_name": "LayoutView",
            "align_content": null,
            "align_items": null,
            "align_self": null,
            "border": null,
            "bottom": null,
            "display": null,
            "flex": null,
            "flex_flow": null,
            "grid_area": null,
            "grid_auto_columns": null,
            "grid_auto_flow": null,
            "grid_auto_rows": null,
            "grid_column": null,
            "grid_gap": null,
            "grid_row": null,
            "grid_template_areas": null,
            "grid_template_columns": null,
            "grid_template_rows": null,
            "height": null,
            "justify_content": null,
            "justify_items": null,
            "left": null,
            "margin": null,
            "max_height": null,
            "max_width": null,
            "min_height": null,
            "min_width": null,
            "object_fit": null,
            "object_position": null,
            "order": null,
            "overflow": null,
            "overflow_x": null,
            "overflow_y": null,
            "padding": null,
            "right": null,
            "top": null,
            "visibility": null,
            "width": null
          }
        },
        "f3ab79e78e1645868b42fc29e13f0524": {
          "model_module": "@jupyter-widgets/controls",
          "model_module_version": "1.5.0",
          "model_name": "DescriptionStyleModel",
          "state": {
            "_model_module": "@jupyter-widgets/controls",
            "_model_module_version": "1.5.0",
            "_model_name": "DescriptionStyleModel",
            "_view_count": null,
            "_view_module": "@jupyter-widgets/base",
            "_view_module_version": "1.2.0",
            "_view_name": "StyleView",
            "description_width": ""
          }
        },
        "fa67f428143e4f74a6554e75f482e5ad": {
          "model_module": "@jupyter-widgets/base",
          "model_module_version": "1.2.0",
          "model_name": "LayoutModel",
          "state": {
            "_model_module": "@jupyter-widgets/base",
            "_model_module_version": "1.2.0",
            "_model_name": "LayoutModel",
            "_view_count": null,
            "_view_module": "@jupyter-widgets/base",
            "_view_module_version": "1.2.0",
            "_view_name": "LayoutView",
            "align_content": null,
            "align_items": null,
            "align_self": null,
            "border": null,
            "bottom": null,
            "display": null,
            "flex": null,
            "flex_flow": null,
            "grid_area": null,
            "grid_auto_columns": null,
            "grid_auto_flow": null,
            "grid_auto_rows": null,
            "grid_column": null,
            "grid_gap": null,
            "grid_row": null,
            "grid_template_areas": null,
            "grid_template_columns": null,
            "grid_template_rows": null,
            "height": null,
            "justify_content": null,
            "justify_items": null,
            "left": null,
            "margin": null,
            "max_height": null,
            "max_width": null,
            "min_height": null,
            "min_width": null,
            "object_fit": null,
            "object_position": null,
            "order": null,
            "overflow": null,
            "overflow_x": null,
            "overflow_y": null,
            "padding": null,
            "right": null,
            "top": null,
            "visibility": null,
            "width": null
          }
        },
        "fb541d15f2e743bcb159fe5e4e8c83d5": {
          "model_module": "@jupyter-widgets/base",
          "model_module_version": "1.2.0",
          "model_name": "LayoutModel",
          "state": {
            "_model_module": "@jupyter-widgets/base",
            "_model_module_version": "1.2.0",
            "_model_name": "LayoutModel",
            "_view_count": null,
            "_view_module": "@jupyter-widgets/base",
            "_view_module_version": "1.2.0",
            "_view_name": "LayoutView",
            "align_content": null,
            "align_items": null,
            "align_self": null,
            "border": null,
            "bottom": null,
            "display": null,
            "flex": null,
            "flex_flow": null,
            "grid_area": null,
            "grid_auto_columns": null,
            "grid_auto_flow": null,
            "grid_auto_rows": null,
            "grid_column": null,
            "grid_gap": null,
            "grid_row": null,
            "grid_template_areas": null,
            "grid_template_columns": null,
            "grid_template_rows": null,
            "height": null,
            "justify_content": null,
            "justify_items": null,
            "left": null,
            "margin": null,
            "max_height": null,
            "max_width": null,
            "min_height": null,
            "min_width": null,
            "object_fit": null,
            "object_position": null,
            "order": null,
            "overflow": null,
            "overflow_x": null,
            "overflow_y": null,
            "padding": null,
            "right": null,
            "top": null,
            "visibility": null,
            "width": null
          }
        },
        "fbe7e11365fa4a24b9de083f575885d4": {
          "model_module": "@jupyter-widgets/controls",
          "model_module_version": "1.5.0",
          "model_name": "FloatProgressModel",
          "state": {
            "_dom_classes": [],
            "_model_module": "@jupyter-widgets/controls",
            "_model_module_version": "1.5.0",
            "_model_name": "FloatProgressModel",
            "_view_count": null,
            "_view_module": "@jupyter-widgets/controls",
            "_view_module_version": "1.5.0",
            "_view_name": "ProgressView",
            "bar_style": "success",
            "description": "",
            "description_tooltip": null,
            "layout": "IPY_MODEL_4f2a5f882b0848b1bd7259969884d269",
            "max": 160,
            "min": 0,
            "orientation": "horizontal",
            "style": "IPY_MODEL_32b70fd20d8b410d9e99ef5031221e15",
            "value": 160
          }
        },
        "fcd6a9021ef740d2a67167d6c630778c": {
          "model_module": "@jupyter-widgets/controls",
          "model_module_version": "1.5.0",
          "model_name": "HTMLModel",
          "state": {
            "_dom_classes": [],
            "_model_module": "@jupyter-widgets/controls",
            "_model_module_version": "1.5.0",
            "_model_name": "HTMLModel",
            "_view_count": null,
            "_view_module": "@jupyter-widgets/controls",
            "_view_module_version": "1.5.0",
            "_view_name": "HTMLView",
            "description": "",
            "description_tooltip": null,
            "layout": "IPY_MODEL_9b9c8de5e7df48ebb9b1e794f5361024",
            "placeholder": "​",
            "style": "IPY_MODEL_e72b40abe9974fab93b852ee337966c9",
            "value": " 502/502 [00:00&lt;00:00, 12.3kB/s]"
          }
        }
      }
    }
  },
  "nbformat": 4,
  "nbformat_minor": 0
}
